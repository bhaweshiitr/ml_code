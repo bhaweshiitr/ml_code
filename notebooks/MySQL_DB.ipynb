{
 "cells": [
  {
   "cell_type": "code",
   "execution_count": 1,
   "metadata": {},
   "outputs": [
    {
     "name": "stdout",
     "output_type": "stream",
     "text": [
      "Hello\n"
     ]
    }
   ],
   "source": [
    "print(\"Hello\")"
   ]
  },
  {
   "cell_type": "code",
   "execution_count": 2,
   "metadata": {},
   "outputs": [
    {
     "name": "stdout",
     "output_type": "stream",
     "text": [
      "hello\n"
     ]
    }
   ],
   "source": [
    "print(\"hello\")"
   ]
  },
  {
   "cell_type": "code",
   "execution_count": 9,
   "metadata": {},
   "outputs": [
    {
     "name": "stdout",
     "output_type": "stream",
     "text": [
      "hello\n"
     ]
    }
   ],
   "source": [
    "print(\"hello\")"
   ]
  },
  {
   "cell_type": "code",
   "execution_count": 2,
   "metadata": {},
   "outputs": [
    {
     "name": "stdout",
     "output_type": "stream",
     "text": [
      "Hello\n"
     ]
    }
   ],
   "source": [
    "import mysql.connector\n",
    "print(\"Hello\")"
   ]
  },
  {
   "cell_type": "code",
   "execution_count": 10,
   "metadata": {},
   "outputs": [],
   "source": [
    "#connection with data base\n",
    "mydb=mysql.connector.connect(host='localhost',user='root',password='Bhaweshiitr@2017',database='db1')\n",
    "#print(mydb.connection_id)"
   ]
  },
  {
   "cell_type": "code",
   "execution_count": 11,
   "metadata": {},
   "outputs": [],
   "source": [
    "# creating a database in the \n",
    "cur=mydb.cursor()\n",
    "#cur.execute(\"CREATE DATABASE db1\")\n",
    "#cur.execute(\"CREATE DATABASE db2\")\n",
    "s='create table book(bookid integer(4) , title varchar(20),price float(5,2))'\n",
    "cur.execute(s)"
   ]
  },
  {
   "cell_type": "code",
   "execution_count": 12,
   "metadata": {},
   "outputs": [],
   "source": [
    "s=\"insert into book(bookid , title,price) values(%s,%s,%s)\"\n",
    "b1=(1,'python3',345)\n",
    "cur.execute(s,b1)\n",
    "mydb.commit()"
   ]
  },
  {
   "cell_type": "code",
   "execution_count": 15,
   "metadata": {},
   "outputs": [],
   "source": [
    "s=\"insert into book(bookid , title,price) values(%s,%s,%s)\"\n",
    "books=[(2,'PHP',315),(3,'HTML',300),(4,'SQL',125)]\n",
    "cur.executemany(s,books)\n",
    "mydb.commit()"
   ]
  },
  {
   "cell_type": "code",
   "execution_count": 16,
   "metadata": {},
   "outputs": [],
   "source": [
    "s=\"insert into book(bookid , title,price) values(5,'PERL',350)\"\n",
    "#b2=(5,'PERL',350)\n",
    "cur.execute(s)\n",
    "mydb.commit()\n",
    " "
   ]
  },
  {
   "cell_type": "code",
   "execution_count": 20,
   "metadata": {},
   "outputs": [
    {
     "name": "stdout",
     "output_type": "stream",
     "text": [
      "[(1, 'python3', 345.0), (2, 'PHP', 315.0), (3, 'HTML', 300.0), (4, 'SQL', 125.0), (5, 'PERL', 350.0)]\n",
      "(1, 'python3', 345.0)\n",
      "(2, 'PHP', 315.0)\n",
      "(3, 'HTML', 300.0)\n",
      "(4, 'SQL', 125.0)\n",
      "(5, 'PERL', 350.0)\n"
     ]
    }
   ],
   "source": [
    "s=\"select * from book \"\n",
    "cur.execute(s)\n",
    "result=cur.fetchall()\n",
    "print(result)\n",
    "for i in result :\n",
    "    print(i)"
   ]
  },
  {
   "cell_type": "code",
   "execution_count": 21,
   "metadata": {},
   "outputs": [],
   "source": [
    "s=\"update book set price=price+10 where price>200\"\n",
    "cur.execute(s)\n",
    "mydb.commit()"
   ]
  },
  {
   "cell_type": "code",
   "execution_count": 22,
   "metadata": {},
   "outputs": [
    {
     "name": "stdout",
     "output_type": "stream",
     "text": [
      "[(1, 'python3', 355.0), (2, 'PHP', 325.0), (3, 'HTML', 310.0), (4, 'SQL', 125.0), (5, 'PERL', 360.0)]\n",
      "(1, 'python3', 355.0)\n",
      "(2, 'PHP', 325.0)\n",
      "(3, 'HTML', 310.0)\n",
      "(4, 'SQL', 125.0)\n",
      "(5, 'PERL', 360.0)\n"
     ]
    }
   ],
   "source": [
    "s=\"select * from book \"\n",
    "cur.execute(s)\n",
    "result=cur.fetchall()\n",
    "print(result)\n",
    "for i in result :\n",
    "    print(i)"
   ]
  },
  {
   "cell_type": "code",
   "execution_count": 27,
   "metadata": {},
   "outputs": [],
   "source": [
    "s=\"delete from book where title='PHP' \"\n",
    "cur.execute(s)\n",
    "mydb.commit()\n"
   ]
  },
  {
   "cell_type": "code",
   "execution_count": 28,
   "metadata": {},
   "outputs": [
    {
     "name": "stdout",
     "output_type": "stream",
     "text": [
      "[(1, 'python3', 355.0), (3, 'HTML', 310.0), (4, 'SQL', 125.0), (5, 'PERL', 360.0)]\n",
      "(1, 'python3', 355.0)\n",
      "(3, 'HTML', 310.0)\n",
      "(4, 'SQL', 125.0)\n",
      "(5, 'PERL', 360.0)\n"
     ]
    }
   ],
   "source": [
    "s=\"select * from book \"\n",
    "cur.execute(s)\n",
    "result=cur.fetchall()\n",
    "print(result)\n",
    "for i in result :\n",
    "    print(i)"
   ]
  }
 ],
 "metadata": {
  "kernelspec": {
   "display_name": "Python 3",
   "language": "python",
   "name": "python3"
  },
  "language_info": {
   "codemirror_mode": {
    "name": "ipython",
    "version": 3
   },
   "file_extension": ".py",
   "mimetype": "text/x-python",
   "name": "python",
   "nbconvert_exporter": "python",
   "pygments_lexer": "ipython3",
   "version": "3.7.6"
  }
 },
 "nbformat": 4,
 "nbformat_minor": 4
}
