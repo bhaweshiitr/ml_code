{
 "cells": [
  {
   "cell_type": "code",
   "execution_count": 5,
   "metadata": {},
   "outputs": [
    {
     "name": "stdout",
     "output_type": "stream",
     "text": [
      "Enter the number of rows in the pascale triangle7\n",
      "[[1], [1, 1], [1, 2, 1], [1, 3, 3, 1], [1, 4, 6, 4, 1], [1, 5, 10, 10, 5, 1], [1, 6, 15, 20, 15, 6, 1]]\n"
     ]
    }
   ],
   "source": [
    "n=int(input(\"Enter the number of rows in the pascale triangle\"))\n",
    "list1=[]\n",
    "for i in range (n):\n",
    "    temp_list=[]\n",
    "    for j in range(i+1):\n",
    "        if(j==0 or j==i):\n",
    "            temp_list.append(1)\n",
    "        else:\n",
    "            temp_list.append(list1[i-1][j-1]+list1[i-1][j])\n",
    "    list1.append(temp_list)\n",
    "print(list1)"
   ]
  },
  {
   "cell_type": "code",
   "execution_count": 6,
   "metadata": {},
   "outputs": [
    {
     "name": "stdout",
     "output_type": "stream",
     "text": [
      "      1 \n",
      "     1 1 \n",
      "    1 2 1 \n",
      "   1 3 3 1 \n",
      "  1 4 6 4 1 \n",
      " 1 5 10 10 5 1 \n",
      "1 6 15 20 15 6 1 \n"
     ]
    }
   ],
   "source": [
    "#printing the pattern \n",
    "for i in range(n):\n",
    "    for j in range(n-i-1):\n",
    "        print(\" \",end=\"\")\n",
    "    for k in range(i+1):\n",
    "        print(list1[i][k],end=\" \")\n",
    "    print()"
   ]
  },
  {
   "cell_type": "code",
   "execution_count": 9,
   "metadata": {},
   "outputs": [
    {
     "name": "stdout",
     "output_type": "stream",
     "text": [
      "(10, 20, 'bhawesh')\n",
      "(10, 20, 'bhawesh', [10, 20, 30])\n"
     ]
    }
   ],
   "source": [
    "#variable parameter \n",
    "def function(*parameters):\n",
    "    print(parameters)\n",
    "    #for i in parameters:\n",
    "        #print(i)\n",
    "function(10,20,\"bhawesh\")\n",
    "function(10,20,\"bhawesh\",[10,20,30])\n"
   ]
  },
  {
   "cell_type": "code",
   "execution_count": 14,
   "metadata": {},
   "outputs": [
    {
     "name": "stdout",
     "output_type": "stream",
     "text": [
      "5\n",
      "5\n",
      "4.5\n"
     ]
    }
   ],
   "source": [
    "# Some functions in python \n",
    "# absolute (abs(number))\n",
    "print(abs(5))\n",
    "print(abs(-5))\n",
    "print(abs(-4.5))"
   ]
  },
  {
   "cell_type": "code",
   "execution_count": 17,
   "metadata": {},
   "outputs": [
    {
     "name": "stdout",
     "output_type": "stream",
     "text": [
      "5.6398\n"
     ]
    }
   ],
   "source": [
    "#Round : round(num,placeb)\n",
    "print(round(5.6397842,4))"
   ]
  },
  {
   "cell_type": "code",
   "execution_count": 23,
   "metadata": {},
   "outputs": [
    {
     "name": "stdout",
     "output_type": "stream",
     "text": [
      "4\n",
      "5\n",
      "4\n",
      "-4\n"
     ]
    }
   ],
   "source": [
    "import math\n",
    "print(math.floor(4.5))\n",
    "print(math.ceil(4.5))\n",
    "#trunch function returns integer part\n",
    "print(math.trunc(4.6))\n",
    "print(math.trunc(-4.6))\n"
   ]
  },
  {
   "cell_type": "code",
   "execution_count": 40,
   "metadata": {},
   "outputs": [
    {
     "name": "stdout",
     "output_type": "stream",
     "text": [
      "2.718281828459045\n",
      "22026.465794806718\n",
      "22026.465794806703\n",
      "3.321928094887362\n",
      "2.23606797749979\n",
      "5.0\n"
     ]
    }
   ],
   "source": [
    "#some more numeric function\n",
    "print(math.e)\n",
    "print(math.exp(10))\n",
    "print(math.e**10)\n",
    "x=math.e\n",
    "print(math.log2(10))\n",
    "print(math.sqrt(5))\n",
    "print(math.sqrt(25))\n"
   ]
  },
  {
   "cell_type": "code",
   "execution_count": 44,
   "metadata": {},
   "outputs": [
    {
     "name": "stdout",
     "output_type": "stream",
     "text": [
      "3.141592653589793\n",
      "(0.9100000000000001, 4.0)\n",
      "3.141592653589793\n",
      "180.0\n"
     ]
    }
   ],
   "source": [
    "print(math.pi)\n",
    "print(math.modf(4.91))\n",
    "print(math.radians(180))\n",
    "print(math.degrees(math.pi))"
   ]
  },
  {
   "cell_type": "code",
   "execution_count": 55,
   "metadata": {},
   "outputs": [
    {
     "name": "stdout",
     "output_type": "stream",
     "text": [
      "Helo\n",
      "\n",
      "johnney johnney yes papa\n",
      "eating sugar no papa \n",
      "telling lie no papa \n",
      "up above the world so high \n",
      "like a diamond in the sky\n",
      "open your mouth ha ha ha \n"
     ]
    },
    {
     "data": {
      "text/plain": [
       "3"
      ]
     },
     "execution_count": 55,
     "metadata": {},
     "output_type": "execute_result"
    }
   ],
   "source": [
    "#string function\n",
    "str1=\"helo\"\n",
    "print(str1.capitalize())\n",
    "str2=\"\"\"\n",
    "johnney johnney yes papa\n",
    "eating sugar no papa \n",
    "telling lie no papa \n",
    "up above the world so high \n",
    "like a diamond in the sky\n",
    "open your mouth ha ha ha \"\"\"\n",
    "print(str2.capitalize())\n",
    "str2.count('papa')"
   ]
  },
  {
   "cell_type": "code",
   "execution_count": 61,
   "metadata": {},
   "outputs": [
    {
     "name": "stdout",
     "output_type": "stream",
     "text": [
      "True\n",
      "True\n"
     ]
    }
   ],
   "source": [
    "#endswith()\n",
    "# checks wheter a string ends with a perticular letter or word or not\n",
    "\n",
    "str3='google.com'\n",
    "print(str3.endswith('.com'))\n",
    "str3='india.gov.in'\n",
    "print(str3.endswith('.gov.in'))"
   ]
  },
  {
   "cell_type": "code",
   "execution_count": 69,
   "metadata": {},
   "outputs": [
    {
     "name": "stdout",
     "output_type": "stream",
     "text": [
      "\n",
      "johnney johnney yes papa\n",
      "eating sugar no papa \n",
      "telling lie no papa \n",
      "up above the world so high \n",
      "like a diamond in the sky\n",
      "open your mouth ha ha ha \n",
      "1\n",
      "['johnney', 'johnney', 'yes', 'papa', 'eating', 'sugar', 'no', 'papa', 'telling', 'lie', 'no', 'papa', 'up', 'above', 'the', 'world', 'so', 'high', 'like', 'a', 'diamond', 'in', 'the', 'sky', 'open', 'your', 'mouth', 'ha', 'ha', 'ha']\n",
      "\n",
      "Johnney Johnney Yes Papa\n",
      "Eating Sugar No Papa \n",
      "Telling Lie No Papa \n",
      "Up Above The World So High \n",
      "Like A Diamond In The Sky\n",
      "Open Your Mouth Ha Ha Ha \n"
     ]
    }
   ],
   "source": [
    "#some more string function\n",
    "#find function to find the index of a letter or word in a string\n",
    "print(str2)\n",
    "print(str2.find('johnney'))\n",
    "#split function to split the string \n",
    "print(str2.split())\n",
    "\n",
    "#title function to capitalize every word of a string\n",
    "print(str2.title())"
   ]
  },
  {
   "cell_type": "code",
   "execution_count": 78,
   "metadata": {},
   "outputs": [
    {
     "name": "stdout",
     "output_type": "stream",
     "text": [
      "helo\n",
      "HELO\n",
      "True\n",
      "True\n",
      "helo\n",
      "\n",
      "johnney johnney yes papa\n",
      "eating sugar no papa \n",
      "telling lie no papa \n",
      "up above the world so high \n",
      "like a diamond in the sky\n",
      "open your mouth ha ha ha \n",
      "\n",
      "JOHNNEY JOHNNEY YES PAPA\n",
      "EATING SUGAR NO PAPA \n",
      "TELLING LIE NO PAPA \n",
      "UP ABOVE THE WORLD SO HIGH \n",
      "LIKE A DIAMOND IN THE SKY\n",
      "OPEN YOUR MOUTH HA HA HA \n"
     ]
    }
   ],
   "source": [
    "#lower()\n",
    "#islower()\n",
    "#upper()\n",
    "#isupper()\n",
    "#swapcase ()\n",
    "print(str1)\n",
    "strr1=str1.upper()\n",
    "print(strr1)\n",
    "print(str1.islower())\n",
    "print(strr1.isupper())\n",
    "strr2=strr1.lower()\n",
    "print(strr2)\n",
    "print(str2)\n",
    "str3=str2.swapcase()\n",
    "print(str3)"
   ]
  },
  {
   "cell_type": "code",
   "execution_count": 86,
   "metadata": {},
   "outputs": [
    {
     "name": "stdout",
     "output_type": "stream",
     "text": [
      "\n",
      "johnney johnney yes papa\n",
      "eating sugar no papa \n",
      "telling lie no papa \n",
      "up above the world so high \n",
      "like a diamond in the sky\n",
      "open your mouth ha ha ha \n",
      "\n",
      "johny sins johny sins yes papa\n",
      "eating sugar no papa \n",
      "telling lie no papa \n",
      "up above the world so high \n",
      "like a diamond in the sky\n",
      "open your mouth ha ha ha \n",
      "True\n",
      "True\n"
     ]
    }
   ],
   "source": [
    "#replace(\" \", \" \")\n",
    "#isdigit()\n",
    "#isalpha\n",
    "print(str2)\n",
    "print(str2.replace('johnney','johny sins'))\n",
    "str1=\"hello\"\n",
    "print(str1.isalpha())\n",
    "numbers='12456'\n",
    "print(numbers.isdigit())"
   ]
  },
  {
   "cell_type": "code",
   "execution_count": 92,
   "metadata": {},
   "outputs": [
    {
     "name": "stdout",
     "output_type": "stream",
     "text": [
      "!!!!!Hello !!!!!!!\n",
      "Hello \n",
      "\n",
      "!!!!!Hello !!!!!!!\n",
      "Hello \n",
      "\n",
      "!!!!!Hello !!!!!!!\n",
      "Hello !!!!!!!\n",
      "\n",
      "!!!!!Hello !!!!!!!\n",
      "!!!!!Hello \n",
      "\n"
     ]
    }
   ],
   "source": [
    "#strip() = remove extra charecters and alphabets from left and rigth both sides of the sring\n",
    "#lstrip() = remove extra charecters and alphabets from only left  sides of the sring\n",
    "#rstrip() = remove extra charecters and alphabets from only right  sides of the sring\n",
    "str1=\"!!!!!Hello !!!!!!!\"\n",
    "print(str1)\n",
    "str1=str1.strip('!')\n",
    "print(str1)\n",
    "print()\n",
    "\n",
    "str1=\"!!!!!Hello !!!!!!!\"\n",
    "print(str1)\n",
    "str1=str1.strip('!!!!!!!!!!!!!!')\n",
    "print(str1)\n",
    "print()\n",
    "\n",
    "str1=\"!!!!!Hello !!!!!!!\"\n",
    "print(str1)\n",
    "str1=str1.lstrip('!!!!!!!!!!!!!!')\n",
    "print(str1)\n",
    "print()\n",
    "\n",
    "str1=\"!!!!!Hello !!!!!!!\"\n",
    "print(str1)\n",
    "str1=str1.rstrip('!!!!!!!!!!!!!!')\n",
    "print(str1)\n",
    "print()\n",
    "\n",
    "\n",
    "\n"
   ]
  },
  {
   "cell_type": "code",
   "execution_count": 95,
   "metadata": {},
   "outputs": [
    {
     "name": "stdout",
     "output_type": "stream",
     "text": [
      "['C:\\\\Users\\\\Bhawesh\\\\Untitled Folder', 'C:\\\\Users\\\\Bhawesh\\\\anaconda3\\\\python37.zip', 'C:\\\\Users\\\\Bhawesh\\\\anaconda3\\\\DLLs', 'C:\\\\Users\\\\Bhawesh\\\\anaconda3\\\\lib', 'C:\\\\Users\\\\Bhawesh\\\\anaconda3', '', 'C:\\\\Users\\\\Bhawesh\\\\anaconda3\\\\lib\\\\site-packages', 'C:\\\\Users\\\\Bhawesh\\\\anaconda3\\\\lib\\\\site-packages\\\\win32', 'C:\\\\Users\\\\Bhawesh\\\\anaconda3\\\\lib\\\\site-packages\\\\win32\\\\lib', 'C:\\\\Users\\\\Bhawesh\\\\anaconda3\\\\lib\\\\site-packages\\\\Pythonwin', 'C:\\\\Users\\\\Bhawesh\\\\anaconda3\\\\lib\\\\site-packages\\\\IPython\\\\extensions', 'C:\\\\Users\\\\Bhawesh\\\\.ipython']\n"
     ]
    }
   ],
   "source": [
    "import math\n",
    "import sys\n",
    "print(sys.path)\n"
   ]
  },
  {
   "cell_type": "code",
   "execution_count": null,
   "metadata": {},
   "outputs": [],
   "source": [
    "\n"
   ]
  },
  {
   "cell_type": "code",
   "execution_count": 109,
   "metadata": {},
   "outputs": [
    {
     "name": "stdout",
     "output_type": "stream",
     "text": [
      "hii\n"
     ]
    }
   ],
   "source": [
    "#file handelling\n",
    "import os\n",
    "os.getcwd()\n",
    "f = open(\"test.txt\",'w')\n",
    "f.write(\"hii\")\n",
    "f.close()\n",
    "f = open(\"test.txt\",'r')\n",
    "print(f.read())\n",
    "f.close()"
   ]
  },
  {
   "cell_type": "code",
   "execution_count": 127,
   "metadata": {},
   "outputs": [
    {
     "name": "stdout",
     "output_type": "stream",
     "text": [
      "hii\n",
      "I am Bhawesh \n",
      "I am Bhawesh \n",
      "I am Bhawesh \n",
      "I am Bhawesh \n",
      "I am Bhawesh \n",
      "I am Bhawesh \n",
      "I am Bhawesh \n",
      "I am Bhawesh \n",
      "hii\n",
      "I am Bhawesh \n",
      "I am Bhawesh \n",
      "I am Bhawesh \n",
      "I am Bhawesh \n",
      "I am Bhawesh \n",
      "I am Bhawesh \n",
      "I am Bhawesh \n",
      "I am Bhawesh \n",
      "I am Bhawesh \n"
     ]
    }
   ],
   "source": [
    "f=open('test.txt')\n",
    "print(f.read())\n",
    "#f.close()\n",
    "f=open('test.txt',mode='a')\n",
    "f.write(\"\\nI am Bhawesh \")\n",
    "f.close()\n",
    "f=open('test.txt')\n",
    "print(f.read())\n",
    "f.close()"
   ]
  },
  {
   "cell_type": "code",
   "execution_count": 141,
   "metadata": {},
   "outputs": [
    {
     "name": "stdout",
     "output_type": "stream",
     "text": [
      "hii\n",
      "I am Bhawesh \n",
      "I am Bhawesh \n",
      "I am Bhawesh \n",
      "I am Bhawesh \n",
      "I am Bhawesh \n",
      "I am Bhawesh \n",
      "I am Bhawesh \n",
      "I am Bhawesh \n",
      "I am Bhawesh \n"
     ]
    }
   ],
   "source": [
    "f=open('test.txt')\n",
    "print(f.read())"
   ]
  },
  {
   "cell_type": "code",
   "execution_count": 142,
   "metadata": {},
   "outputs": [
    {
     "name": "stdout",
     "output_type": "stream",
     "text": [
      "hello\n"
     ]
    }
   ],
   "source": [
    "print(\"hello\")"
   ]
  },
  {
   "cell_type": "markdown",
   "metadata": {},
   "source": [
    "# file handelling"
   ]
  },
  {
   "cell_type": "code",
   "execution_count": 160,
   "metadata": {},
   "outputs": [
    {
     "name": "stdout",
     "output_type": "stream",
     "text": [
      "welcome \n",
      "welcome to amuls acadmey\n"
     ]
    }
   ],
   "source": [
    "#open a file \n",
    "text_file=open(\"text.txt\",mode='w')\n",
    "text_file.write(\"Hello People\")\n",
    "text_file.close()\n",
    "text_file=open(\"text.txt\",mode='w')\n",
    "text_file.write(\"welcome\")\n",
    "text_file.close()\n",
    "text_file=open(\"text.txt\")\n",
    "text_file.read()\n",
    "text_file=open(\"text.txt\" ,mode='a')\n",
    "text_file.write(\" \\nwelcome to amuls acadmey\")\n",
    "text_file.close()\n",
    "text_file=open(\"text.txt\")\n",
    "print(text_file.read())\n",
    "text_file.close()"
   ]
  },
  {
   "cell_type": "code",
   "execution_count": 168,
   "metadata": {},
   "outputs": [
    {
     "name": "stdout",
     "output_type": "stream",
     "text": [
      "C:\\Users\\Bhawesh\\Untitled Folder\n"
     ]
    }
   ],
   "source": [
    "# renaming and removing the file\n",
    "import os\n",
    "#to remove and rename files sometimes we need to provide path names if python code files and the text file are not in the same directory\n",
    "#os.rename(\"text.txt\",'my_file.txt')\n",
    "#os.remove(\"my_file.txt\")\n",
    "#getting the current working directory\n",
    "print(os.getcwd())\n"
   ]
  },
  {
   "cell_type": "code",
   "execution_count": 170,
   "metadata": {},
   "outputs": [
    {
     "name": "stdout",
     "output_type": "stream",
     "text": [
      "nt\n"
     ]
    }
   ],
   "source": [
    "print(os.name)"
   ]
  },
  {
   "cell_type": "code",
   "execution_count": 180,
   "metadata": {},
   "outputs": [
    {
     "ename": "FileExistsError",
     "evalue": "[WinError 183] Cannot create a file when that file already exists: 'C:\\\\Users\\\\Bhawesh\\\\Desktop\\\\m_dir'",
     "output_type": "error",
     "traceback": [
      "\u001b[1;31m---------------------------------------------------------------------------\u001b[0m",
      "\u001b[1;31mFileExistsError\u001b[0m                           Traceback (most recent call last)",
      "\u001b[1;32m<ipython-input-180-6835fa8ee5ad>\u001b[0m in \u001b[0;36m<module>\u001b[1;34m\u001b[0m\n\u001b[0;32m      1\u001b[0m \u001b[1;31m#os.mkdir(\"my_dir\")\u001b[0m\u001b[1;33m\u001b[0m\u001b[1;33m\u001b[0m\u001b[1;33m\u001b[0m\u001b[0m\n\u001b[0;32m      2\u001b[0m \u001b[1;33m\u001b[0m\u001b[0m\n\u001b[1;32m----> 3\u001b[1;33m \u001b[0mos\u001b[0m\u001b[1;33m.\u001b[0m\u001b[0mmkdir\u001b[0m\u001b[1;33m(\u001b[0m\u001b[1;34m\"C:\\\\Users\\\\Bhawesh\\Desktop\\\\m_dir\"\u001b[0m\u001b[1;33m)\u001b[0m\u001b[1;33m\u001b[0m\u001b[1;33m\u001b[0m\u001b[0m\n\u001b[0m\u001b[0;32m      4\u001b[0m \u001b[0mos\u001b[0m\u001b[1;33m.\u001b[0m\u001b[0mgetcwd\u001b[0m\u001b[1;33m(\u001b[0m\u001b[1;33m)\u001b[0m\u001b[1;33m\u001b[0m\u001b[1;33m\u001b[0m\u001b[0m\n",
      "\u001b[1;31mFileExistsError\u001b[0m: [WinError 183] Cannot create a file when that file already exists: 'C:\\\\Users\\\\Bhawesh\\\\Desktop\\\\m_dir'"
     ]
    }
   ],
   "source": [
    "#os.mkdir(\"my_dir\")\n",
    "\n",
    "os.mkdir(\"C:\\\\Users\\\\Bhawesh\\Desktop\\\\m_dir\")\n"
   ]
  },
  {
   "cell_type": "code",
   "execution_count": 181,
   "metadata": {},
   "outputs": [
    {
     "data": {
      "text/plain": [
       "'C:\\\\Users\\\\Bhawesh\\\\Untitled Folder'"
      ]
     },
     "execution_count": 181,
     "metadata": {},
     "output_type": "execute_result"
    }
   ],
   "source": [
    "os.getcwd()"
   ]
  },
  {
   "cell_type": "code",
   "execution_count": 182,
   "metadata": {},
   "outputs": [
    {
     "name": "stdout",
     "output_type": "stream",
     "text": [
      "['.ipynb_checkpoints', 'LIVE-1_Python.ipynb', 'my_dir', 'my_module.ipynb', 'numpy_practice.ipynb', 'numpy_practice_W3Schools.ipynb', 'practice_python_from_grrks_for_geeks.ipynb', 'pyhon_practice.ipynb', 'test.txt', 'Untitled.ipynb']\n"
     ]
    }
   ],
   "source": [
    "print(os.listdir())"
   ]
  },
  {
   "cell_type": "code",
   "execution_count": 189,
   "metadata": {},
   "outputs": [
    {
     "name": "stdout",
     "output_type": "stream",
     "text": [
      "236\n"
     ]
    }
   ],
   "source": [
    "len(os.listdir(\"C:\\\\\"))\n",
    "#print(os.listdir(\"D:\\\\Movies\"))\n",
    "print(len(os.listdir(\"D:\\\\Movies\")))"
   ]
  },
  {
   "cell_type": "code",
   "execution_count": 193,
   "metadata": {
    "scrolled": true
   },
   "outputs": [
    {
     "name": "stdout",
     "output_type": "stream",
     "text": [
      "['Desktop files', 'desktop.ini']\n"
     ]
    }
   ],
   "source": [
    "#os.rmdir(\"C:\\\\Users\\\\Bhawesh\\Desktop\\\\m_dir\")\n",
    "print(os.listdir(\"C:\\\\Users\\\\Bhawesh\\Desktop\"))"
   ]
  },
  {
   "cell_type": "markdown",
   "metadata": {},
   "source": [
    "# exception Handelling"
   ]
  },
  {
   "cell_type": "code",
   "execution_count": 199,
   "metadata": {},
   "outputs": [
    {
     "name": "stdout",
     "output_type": "stream",
     "text": [
      "enter a number to calculate factorial-5\n",
      "factorial of  -5  can not be calculated \n"
     ]
    }
   ],
   "source": [
    "#generally standard errors , handelled by python internaly \n",
    "#ex:\n",
    "import math\n",
    "num=int(input(\"enter a number to calculate factorial\"))\n",
    "try:\n",
    "    print(math.factorial(num))\n",
    "except ValueError:\n",
    "    print(\"factorial of \",num , \" can not be calculated \")"
   ]
  },
  {
   "cell_type": "code",
   "execution_count": 198,
   "metadata": {},
   "outputs": [
    {
     "name": "stdout",
     "output_type": "stream",
     "text": [
      "enter a number to calculate factorial0\n",
      "1\n"
     ]
    }
   ],
   "source": [
    "\n",
    "num=int(input(\"enter a number to calculate factorial\"))\n",
    "print(math.factorial(num))"
   ]
  },
  {
   "cell_type": "code",
   "execution_count": 202,
   "metadata": {},
   "outputs": [
    {
     "name": "stdout",
     "output_type": "stream",
     "text": [
      "enter a number to calculate factorial-5\n",
      "factorial of  -5  can not be calculated \n"
     ]
    }
   ],
   "source": [
    "\n",
    "num=int(input(\"enter a number to calculate factorial\"))\n",
    "try:\n",
    "    print(math.factorial(num))\n",
    "except:\n",
    "   # raise ValueError(\"factorial of \",num , \" can not be calculated \")\n",
    "    print(\"factorial of \",num , \" can not be calculated \")"
   ]
  },
  {
   "cell_type": "code",
   "execution_count": 204,
   "metadata": {},
   "outputs": [
    {
     "name": "stdout",
     "output_type": "stream",
     "text": [
      "enter a number to calculate factorial5\n",
      "120\n",
      "Good Bye\n"
     ]
    }
   ],
   "source": [
    "\n",
    "num=int(input(\"enter a number to calculate factorial\"))\n",
    "try:\n",
    "    print(math.factorial(num))\n",
    "except:\n",
    "   # raise ValueError(\"factorial of \",num , \" can not be calculated \")\n",
    "    print(\"factorial of \",num , \" can not be calculated \")\n",
    "finally:\n",
    "    print(\"Good Bye\")"
   ]
  },
  {
   "cell_type": "markdown",
   "metadata": {},
   "source": [
    "# OOP"
   ]
  },
  {
   "cell_type": "code",
   "execution_count": 207,
   "metadata": {},
   "outputs": [
    {
     "name": "stdout",
     "output_type": "stream",
     "text": [
      "Hello\n",
      "Hello\n"
     ]
    }
   ],
   "source": [
    "class person :\n",
    "    def display(self):\n",
    "        print(\"Hello\")\n",
    "p1=person()\n",
    "p1.display()\n",
    "person().display()"
   ]
  },
  {
   "cell_type": "code",
   "execution_count": 216,
   "metadata": {},
   "outputs": [
    {
     "name": "stdout",
     "output_type": "stream",
     "text": [
      "Hello bhawesh your age is  20\n"
     ]
    }
   ],
   "source": [
    "class person :\n",
    "    def __init__ (self,name):\n",
    "        self.name=name\n",
    "        self.age=20\n",
    "    def display(self):\n",
    "        print(\"Hello\",self.name , \"your age is \",self.age)\n",
    "p1=person(\"bhawesh\")\n",
    "p1.display()\n",
    "\n"
   ]
  },
  {
   "cell_type": "code",
   "execution_count": 218,
   "metadata": {},
   "outputs": [
    {
     "ename": "AttributeError",
     "evalue": "'pen' object has no attribute 'name'",
     "output_type": "error",
     "traceback": [
      "\u001b[1;31m---------------------------------------------------------------------------\u001b[0m",
      "\u001b[1;31mAttributeError\u001b[0m                            Traceback (most recent call last)",
      "\u001b[1;32m<ipython-input-218-db02d24357e0>\u001b[0m in \u001b[0;36m<module>\u001b[1;34m\u001b[0m\n\u001b[0;32m     16\u001b[0m     \u001b[1;32mdef\u001b[0m \u001b[0mdisplay_model\u001b[0m\u001b[1;33m(\u001b[0m\u001b[1;33m)\u001b[0m\u001b[1;33m:\u001b[0m\u001b[1;33m\u001b[0m\u001b[1;33m\u001b[0m\u001b[0m\n\u001b[0;32m     17\u001b[0m         \u001b[0mprint\u001b[0m\u001b[1;33m(\u001b[0m\u001b[1;34m\"model of the pen : \"\u001b[0m\u001b[1;33m,\u001b[0m \u001b[0mself\u001b[0m\u001b[1;33m.\u001b[0m\u001b[0mmodel\u001b[0m\u001b[1;33m)\u001b[0m\u001b[1;33m\u001b[0m\u001b[1;33m\u001b[0m\u001b[0m\n\u001b[1;32m---> 18\u001b[1;33m \u001b[0mpen1\u001b[0m\u001b[1;33m=\u001b[0m\u001b[0mpen\u001b[0m\u001b[1;33m(\u001b[0m\u001b[1;33m)\u001b[0m\u001b[1;33m\u001b[0m\u001b[1;33m\u001b[0m\u001b[0m\n\u001b[0m\u001b[0;32m     19\u001b[0m \u001b[0mpen1\u001b[0m\u001b[1;33m.\u001b[0m\u001b[0mname\u001b[0m\u001b[1;33m=\u001b[0m\u001b[1;34m\"Rmaex\"\u001b[0m\u001b[1;33m\u001b[0m\u001b[1;33m\u001b[0m\u001b[0m\n\u001b[0;32m     20\u001b[0m \u001b[0mpen1\u001b[0m\u001b[1;33m.\u001b[0m\u001b[0mdisplay_name\u001b[0m\u001b[1;33m(\u001b[0m\u001b[1;33m)\u001b[0m\u001b[1;33m\u001b[0m\u001b[1;33m\u001b[0m\u001b[0m\n",
      "\u001b[1;32m<ipython-input-218-db02d24357e0>\u001b[0m in \u001b[0;36m__init__\u001b[1;34m(self)\u001b[0m\n\u001b[0;32m      1\u001b[0m \u001b[1;32mclass\u001b[0m \u001b[0mpen\u001b[0m\u001b[1;33m:\u001b[0m\u001b[1;33m\u001b[0m\u001b[1;33m\u001b[0m\u001b[0m\n\u001b[0;32m      2\u001b[0m     \u001b[1;32mdef\u001b[0m \u001b[0m__init__\u001b[0m\u001b[1;33m(\u001b[0m\u001b[0mself\u001b[0m\u001b[1;33m)\u001b[0m\u001b[1;33m:\u001b[0m\u001b[1;33m\u001b[0m\u001b[1;33m\u001b[0m\u001b[0m\n\u001b[1;32m----> 3\u001b[1;33m         \u001b[0mself\u001b[0m\u001b[1;33m.\u001b[0m\u001b[0mname\u001b[0m\u001b[1;33m\u001b[0m\u001b[1;33m\u001b[0m\u001b[0m\n\u001b[0m\u001b[0;32m      4\u001b[0m         \u001b[0mself\u001b[0m\u001b[1;33m.\u001b[0m\u001b[0mprice\u001b[0m\u001b[1;33m\u001b[0m\u001b[1;33m\u001b[0m\u001b[0m\n\u001b[0;32m      5\u001b[0m         \u001b[0mself\u001b[0m\u001b[1;33m.\u001b[0m\u001b[0mcolour\u001b[0m\u001b[1;33m\u001b[0m\u001b[1;33m\u001b[0m\u001b[0m\n",
      "\u001b[1;31mAttributeError\u001b[0m: 'pen' object has no attribute 'name'"
     ]
    }
   ],
   "source": [
    "class pen:\n",
    "    def __init__(self):\n",
    "        self.name\n",
    "        self.price\n",
    "        self.colour\n",
    "        self.length\n",
    "        self.model\n",
    "    def display_name():\n",
    "        print(\"name of the pen : \", self.name)\n",
    "    def display_price():\n",
    "        print(\"price of the pen : \", self.price)\n",
    "    def display_colour():\n",
    "        print(\"colour of the pen : \", self.colour)\n",
    "    def display_length():\n",
    "        print(\"length of the pen : \", self.length)\n",
    "    def display_model():\n",
    "        print(\"model of the pen : \", self.model)\n",
    "pen1=pen()    \n",
    "pen1.name=\"Rmaex\"\n",
    "pen1.display_name()"
   ]
  },
  {
   "cell_type": "code",
   "execution_count": 2,
   "metadata": {},
   "outputs": [
    {
     "name": "stdout",
     "output_type": "stream",
     "text": [
      "Hello\n"
     ]
    }
   ],
   "source": [
    "\n",
    "print(\"Hello\")"
   ]
  },
  {
   "cell_type": "markdown",
   "metadata": {},
   "source": [
    "# Pattern printing"
   ]
  },
  {
   "cell_type": "code",
   "execution_count": 5,
   "metadata": {},
   "outputs": [
    {
     "name": "stdout",
     "output_type": "stream",
     "text": [
      "Enter number of rows 10\n",
      "* \n",
      "* * * \n",
      "* * * * * \n",
      "* * * * * * * \n",
      "* * * * * * * * * \n"
     ]
    }
   ],
   "source": [
    "num=int(input(\"Enter number of rows \"))\n",
    "for i in range(1,num+1,2):\n",
    "    print(\"* \"*i)"
   ]
  },
  {
   "cell_type": "code",
   "execution_count": 6,
   "metadata": {},
   "outputs": [
    {
     "name": "stdout",
     "output_type": "stream",
     "text": [
      "Enter number of rows 10\n",
      "* \n",
      "* * \n",
      "* * * \n",
      "* * * * \n",
      "* * * * * \n",
      "* * * * * * \n",
      "* * * * * * * \n",
      "* * * * * * * * \n",
      "* * * * * * * * * \n",
      "* * * * * * * * * * \n"
     ]
    }
   ],
   "source": [
    "num=int(input(\"Enter number of rows \"))\n",
    "for i in range(1,num+1):\n",
    "    print(\"* \"*i)"
   ]
  },
  {
   "cell_type": "code",
   "execution_count": 9,
   "metadata": {},
   "outputs": [
    {
     "name": "stdout",
     "output_type": "stream",
     "text": [
      "Enter number of rows 5\n",
      "* \n",
      "* * * \n",
      "* * * * * \n",
      "* * * * * * * \n",
      "* * * * * * * * * \n"
     ]
    }
   ],
   "source": [
    "#no reduction in no of rows but \n",
    "num=int(input(\"Enter number of rows \"))\n",
    "k=1\n",
    "for i in range(1,num+1):\n",
    "    \n",
    "    print(\"* \"*k)\n",
    "    k=k+2\n",
    "# Did you noticed the difference between first and third pattern"
   ]
  },
  {
   "cell_type": "code",
   "execution_count": 12,
   "metadata": {},
   "outputs": [
    {
     "name": "stdout",
     "output_type": "stream",
     "text": [
      "Enter number of rows 10\n",
      "          * \n",
      "         * * \n",
      "        * * * \n",
      "       * * * * \n",
      "      * * * * * \n",
      "     * * * * * * \n",
      "    * * * * * * * \n",
      "   * * * * * * * * \n",
      "  * * * * * * * * * \n",
      " * * * * * * * * * * \n"
     ]
    }
   ],
   "source": [
    "#pyramid Shape\n",
    "num=int(input(\"Enter number of rows \"))\n",
    "for i in range(1,num+1):\n",
    "    print(\" \"*(num-i),\"* \"*i)"
   ]
  },
  {
   "cell_type": "code",
   "execution_count": 15,
   "metadata": {},
   "outputs": [
    {
     "name": "stdout",
     "output_type": "stream",
     "text": [
      "Enter number of rows 10\n",
      "  * * * * * * * * *   \n",
      "   * * * * * * * *    \n",
      "    * * * * * * *     \n",
      "     * * * * * *      \n",
      "      * * * * *       \n",
      "       * * * *        \n",
      "        * * *         \n",
      "         * *          \n",
      "          *           \n",
      "                      \n"
     ]
    }
   ],
   "source": [
    "# Reverse pyramid Shape\n",
    "num=int(input(\"Enter number of rows \"))\n",
    "for i in range(1,num+1):\n",
    "    print(\" \"*i,\"* \"*(num-i),\" \"*i)"
   ]
  },
  {
   "cell_type": "code",
   "execution_count": 16,
   "metadata": {},
   "outputs": [
    {
     "name": "stdout",
     "output_type": "stream",
     "text": [
      "Enter number of rows 10\n",
      "          * \n",
      "         * * \n",
      "        * * * \n",
      "       * * * * \n",
      "      * * * * * \n",
      "     * * * * * * \n",
      "    * * * * * * * \n",
      "   * * * * * * * * \n",
      "  * * * * * * * * * \n",
      " * * * * * * * * * * \n",
      "  * * * * * * * * *   \n",
      "   * * * * * * * *    \n",
      "    * * * * * * *     \n",
      "     * * * * * *      \n",
      "      * * * * *       \n",
      "       * * * *        \n",
      "        * * *         \n",
      "         * *          \n",
      "          *           \n",
      "                      \n"
     ]
    }
   ],
   "source": [
    "#Diamond Shape\n",
    "#pyramid Shape\n",
    "num=int(input(\"Enter number of rows \"))\n",
    "for i in range(1,num+1):\n",
    "    print(\" \"*(num-i),\"* \"*i)\n",
    "#num=int(input(\"Enter number of rows \"))\n",
    "for i in range(1,num+1):\n",
    "    print(\" \"*i,\"* \"*(num-i),\" \"*i)"
   ]
  },
  {
   "cell_type": "code",
   "execution_count": 17,
   "metadata": {},
   "outputs": [
    {
     "name": "stdout",
     "output_type": "stream",
     "text": [
      "Enter number of rows 10\n",
      "* * * * * * * * *   \n",
      "* * * * * * * *    \n",
      "* * * * * * *     \n",
      "* * * * * *      \n",
      "* * * * *       \n",
      "* * * *        \n",
      "* * *         \n",
      "* *          \n",
      "*           \n",
      "           \n"
     ]
    }
   ],
   "source": [
    "num=int(input(\"Enter number of rows \"))\n",
    "for i in range(1,num+1):\n",
    "    print(\"* \"*(num-i),\" \"*i)"
   ]
  },
  {
   "cell_type": "code",
   "execution_count": 25,
   "metadata": {},
   "outputs": [
    {
     "name": "stdout",
     "output_type": "stream",
     "text": [
      "Enter number of rows 10\n",
      "            *  *\n",
      "            *   *\n",
      "           *    *\n",
      "         *     *\n",
      "      *      *\n",
      "  *       *\n",
      " *        *\n",
      " *         *\n",
      " *          *\n",
      " *           *\n",
      " *            *\n",
      " *             *\n"
     ]
    }
   ],
   "source": [
    "# Print A\n",
    "num=int(input(\"Enter number of rows \"))\n",
    "k=0\n",
    "if(num%2==0):\n",
    "    k=num+1\n",
    "else:\n",
    "    k=num\n",
    "l=k\n",
    "for i in range (0,l+1):\n",
    "    print(\" \"*l,\"*\",\" \"*i,\"*\")\n",
    "    l=l-i\n"
   ]
  },
  {
   "cell_type": "code",
   "execution_count": null,
   "metadata": {},
   "outputs": [],
   "source": [
    "num=int(input(\"Enter number of rows \"))\n",
    "k=1\n",
    "for i in range(1,num+1):\n",
    "    print(\" \"*(num-i),\"*\"*(i*2))\n",
    "    #print(\" \"*(num-k),\"*\"*k)\n",
    "    #k=k+1\n",
    "    \n",
    "print(\"hello \")\n",
    "print(\"hello \")\n",
    "print(\"hello \")"
   ]
  },
  {
   "cell_type": "code",
   "execution_count": 10,
   "metadata": {},
   "outputs": [
    {
     "name": "stdout",
     "output_type": "stream",
     "text": [
      "Enter number of rows 10\n",
      "            *\n",
      "           *  *\n",
      "          *    *\n",
      "         *      *\n",
      "        *        *\n",
      "       *          *\n",
      "      * * * * * * * * \n",
      "     *              *\n",
      "    *                *\n",
      "   *                  *\n",
      "  *                    *\n",
      " *                      *\n",
      "hello \n",
      "hello \n",
      "hello \n"
     ]
    }
   ],
   "source": [
    "num=int(input(\"Enter number of rows \"))\n",
    "k=1\n",
    "print(\" \"*(num+1),\"*\")\n",
    "for i in range(0,num+1):\n",
    "    if(i==5):\n",
    "        print(\" \"*(num-i),\"* \"*((i*2)-2))\n",
    "    else:\n",
    "        print(\" \"*(num-i),\"*\",\" \"*(i*2),\"*\")\n",
    "    #print(\" \"*(num-k),\"*\"*k)\n",
    "    #k=k+1\n",
    "    \n",
    "print(\"hello \")\n",
    "print(\"hello \")\n",
    "print(\"hello \")"
   ]
  },
  {
   "cell_type": "code",
   "execution_count": 12,
   "metadata": {},
   "outputs": [
    {
     "name": "stdout",
     "output_type": "stream",
     "text": [
      "Enter number of rows 10\n",
      "0 \n",
      "0 1 \n",
      "0 1 2 \n",
      "0 1 2 3 \n",
      "0 1 2 3 4 \n",
      "0 1 2 3 4 5 \n",
      "0 1 2 3 4 5 6 \n",
      "0 1 2 3 4 5 6 7 \n",
      "0 1 2 3 4 5 6 7 8 \n",
      "0 1 2 3 4 5 6 7 8 9 \n",
      "0 1 2 3 4 5 6 7 8 9 10 \n"
     ]
    }
   ],
   "source": [
    "num=int(input(\"Enter number of rows \"))\n",
    "for i in range(0,num+1):\n",
    "    for j in range(0,i+1):\n",
    "        print(j,end=\" \")\n",
    "    print()\n"
   ]
  },
  {
   "cell_type": "code",
   "execution_count": 13,
   "metadata": {},
   "outputs": [
    {
     "name": "stdout",
     "output_type": "stream",
     "text": [
      "Enter number of rows 10\n",
      "0 1 2 3 4 5 6 7 8 9 10 \n",
      "0 1 2 3 4 5 6 7 8 9 \n",
      "0 1 2 3 4 5 6 7 8 \n",
      "0 1 2 3 4 5 6 7 \n",
      "0 1 2 3 4 5 6 \n",
      "0 1 2 3 4 5 \n",
      "0 1 2 3 4 \n",
      "0 1 2 3 \n",
      "0 1 2 \n",
      "0 1 \n",
      "0 \n"
     ]
    }
   ],
   "source": [
    "num=int(input(\"Enter number of rows \"))\n",
    "for i in range(0,num+1):\n",
    "    for j in range(0,num+1-i):\n",
    "        print(j,end=\" \")\n",
    "    print()\n"
   ]
  },
  {
   "cell_type": "code",
   "execution_count": 14,
   "metadata": {},
   "outputs": [
    {
     "name": "stdout",
     "output_type": "stream",
     "text": [
      "Enter number of rows 10\n",
      "\n",
      "1 \n",
      "2 2 \n",
      "3 3 3 \n",
      "4 4 4 4 \n",
      "5 5 5 5 5 \n",
      "6 6 6 6 6 6 \n",
      "7 7 7 7 7 7 7 \n",
      "8 8 8 8 8 8 8 8 \n",
      "9 9 9 9 9 9 9 9 9 \n",
      "10 10 10 10 10 10 10 10 10 10 \n"
     ]
    }
   ],
   "source": [
    "num=int(input(\"Enter number of rows \"))\n",
    "for i in range(0,num+1):\n",
    "    k=str(i)+\" \"\n",
    "    print(k*i)\n"
   ]
  },
  {
   "cell_type": "code",
   "execution_count": 16,
   "metadata": {},
   "outputs": [
    {
     "name": "stdout",
     "output_type": "stream",
     "text": [
      "Enter number of rows 10\n",
      "1 1 1 1 1 1 1 1 1 \n",
      "2 2 2 2 2 2 2 2 \n",
      "3 3 3 3 3 3 3 \n",
      "4 4 4 4 4 4 \n",
      "5 5 5 5 5 \n",
      "6 6 6 6 \n",
      "7 7 7 \n",
      "8 8 \n",
      "9 \n",
      "\n"
     ]
    }
   ],
   "source": [
    "num=int(input(\"Enter number of rows \"))\n",
    "for i in range(1,num+1):\n",
    "    k=str(i)+\" \"\n",
    "    print(k*(num-i))\n"
   ]
  },
  {
   "cell_type": "code",
   "execution_count": null,
   "metadata": {},
   "outputs": [],
   "source": [
    "num=int(input(\"Enter number of rows \"))\n",
    "for i in range(0,num+1):\n",
    "    for j in range(0,i+1):\n",
    "        print(j,end=\" \")\n",
    "    print()\n"
   ]
  },
  {
   "cell_type": "code",
   "execution_count": 36,
   "metadata": {},
   "outputs": [
    {
     "name": "stdout",
     "output_type": "stream",
     "text": [
      "Enter number of rows 10\n",
      "\n",
      "1 \n",
      "2 1 \n",
      "4 2 1 \n",
      "8 4 2 1 \n",
      "16 8 4 2 1 \n",
      "32 16 8 4 2 1 \n",
      "64 32 16 8 4 2 1 \n",
      "128 64 32 16 8 4 2 1 \n",
      "256 128 64 32 16 8 4 2 1 \n",
      "512 256 128 64 32 16 8 4 2 1 \n"
     ]
    }
   ],
   "source": [
    "num=int(input(\"Enter number of rows \"))\n",
    "for i in range(0,num+1):\n",
    "    k=1\n",
    "    List=[1]\n",
    "    for j in range(i+1,0,-1):\n",
    "        \n",
    "        #print(k,end=\" \")\n",
    "        List.append(k)\n",
    "        k=k*2\n",
    "    for j in range(i,0,-1):\n",
    "        print(List[j],end=\" \")\n",
    "    print()\n"
   ]
  },
  {
   "cell_type": "code",
   "execution_count": 40,
   "metadata": {},
   "outputs": [
    {
     "name": "stdout",
     "output_type": "stream",
     "text": [
      "Enter number of rows 10\n",
      "1 \n",
      "2 1 \n",
      "4 2 1 \n",
      "8 4 2 1 \n",
      "16 8 4 2 1 \n",
      "32 16 8 4 2 1 \n",
      "64 32 16 8 4 2 1 \n"
     ]
    }
   ],
   "source": [
    "num=int(input(\"Enter number of rows \"))\n",
    "for i in range(0,i):\n",
    "    for j in range(i,-1,-1):\n",
    "        print(2**j,end=\" \")\n",
    "    print()"
   ]
  },
  {
   "cell_type": "code",
   "execution_count": 42,
   "metadata": {
    "scrolled": true
   },
   "outputs": [
    {
     "name": "stdout",
     "output_type": "stream",
     "text": [
      "Enter number of rows 10\n",
      "1 \n",
      "1 2 1 \n",
      "1 2 4 2 1 \n",
      "1 2 4 8 4 2 1 \n",
      "1 2 4 8 16 8 4 2 1 \n",
      "1 2 4 8 16 32 16 8 4 2 1 \n",
      "1 2 4 8 16 32 64 32 16 8 4 2 1 \n",
      "1 2 4 8 16 32 64 128 64 32 16 8 4 2 1 \n",
      "1 2 4 8 16 32 64 128 256 128 64 32 16 8 4 2 1 \n",
      "1 2 4 8 16 32 64 128 256 512 256 128 64 32 16 8 4 2 1 \n",
      "1 2 4 8 16 32 64 128 256 512 1024 512 256 128 64 32 16 8 4 2 1 \n"
     ]
    }
   ],
   "source": [
    "num=int(input(\"Enter number of rows \"))\n",
    "for i in range(0,num+1):\n",
    "    for j in range(0,i):\n",
    "        print(2**j,end=\" \")\n",
    "    for j in range(i,-1,-1):\n",
    "        print(2**j,end=\" \")\n",
    "    print()\n",
    "    "
   ]
  },
  {
   "cell_type": "code",
   "execution_count": 43,
   "metadata": {},
   "outputs": [
    {
     "name": "stdout",
     "output_type": "stream",
     "text": [
      "0\n",
      "1\n",
      "2\n",
      "3\n",
      "4\n",
      "5\n",
      "6\n",
      "7\n",
      "8\n",
      "9\n"
     ]
    }
   ],
   "source": [
    "for i in range(i):\n",
    "    print(i)"
   ]
  },
  {
   "cell_type": "code",
   "execution_count": 56,
   "metadata": {
    "scrolled": true
   },
   "outputs": [
    {
     "name": "stdout",
     "output_type": "stream",
     "text": [
      "[[3 2]\n",
      " [2 3]\n",
      " [8 2]\n",
      " [6 3]]\n",
      "(4, 2)\n",
      "8\n",
      "Total bytes consumed by the elements of array:  16\n",
      "The size of one element of array is :  2\n",
      "Length of one array element in byte :  2\n",
      " Datatype of array :  int16\n"
     ]
    }
   ],
   "source": [
    "# Numpy Exercises\n",
    "import numpy as np\n",
    "array=np.random.randint(1,10,(4,2),dtype=np.int16)\n",
    "print(array)\n",
    "print(array.shape)\n",
    "print(array.size)\n",
    "print(\"Total bytes consumed by the elements of array: \",array.nbytes)\n",
    "print(\"The size of one element of array is : \", array.nbytes//array.size)\n",
    "print(\"Length of one array element in byte : \",array.itemsize)\n",
    "print(\" Datatype of array : \",array.dtype)\n"
   ]
  },
  {
   "cell_type": "code",
   "execution_count": 61,
   "metadata": {},
   "outputs": [
    {
     "name": "stdout",
     "output_type": "stream",
     "text": [
      "[[49586 13888]\n",
      " [37724 43868]\n",
      " [36504  3648]\n",
      " [ 3905 34614]]\n",
      "(4, 2)\n",
      "8\n",
      "Total bytes consumed by the elements of array:  16\n",
      "The size of one element of array is :  2\n",
      "Length of one array element in byte :  2\n"
     ]
    }
   ],
   "source": [
    "# Numpy Exercises\n",
    "import numpy as np\n",
    "array = np.empty([4,2], dtype = np.uint16)\n",
    "print(array)\n",
    "print(array.shape)\n",
    "print(array.size)\n",
    "print(\"Total bytes consumed by the elements of array: \",array.nbytes)\n",
    "print(\"The size of one element of array is : \", array.nbytes//array.size)\n",
    "print(\"Length of one array element in byte : \",array.itemsize)\n"
   ]
  },
  {
   "cell_type": "code",
   "execution_count": 85,
   "metadata": {},
   "outputs": [
    {
     "name": "stdout",
     "output_type": "stream",
     "text": [
      "['__repr__', '__hash__', '__str__', '__getattribute__', '__lt__', '__le__', '__eq__', '__ne__', '__gt__', '__ge__', '__add__', '__radd__', '__sub__', '__rsub__', '__mul__', '__rmul__', '__mod__', '__rmod__', '__divmod__', '__rdivmod__', '__pow__', '__rpow__', '__neg__', '__pos__', '__abs__', '__bool__', '__invert__', '__lshift__', '__rlshift__', '__rshift__', '__rrshift__', '__and__', '__rand__', '__xor__', '__rxor__', '__or__', '__ror__', '__int__', '__float__', '__floordiv__', '__rfloordiv__', '__truediv__', '__rtruediv__', '__index__', '__new__', 'conjugate', 'bit_length', 'to_bytes', 'from_bytes', '__trunc__', '__floor__', '__ceil__', '__round__', '__getnewargs__', '__format__', '__sizeof__', 'real', 'imag', 'numerator', 'denominator', '__doc__', '__setattr__', '__delattr__', '__init__', '__reduce_ex__', '__reduce__', '__subclasshook__', '__init_subclass__', '__dir__', '__class__']\n"
     ]
    },
    {
     "ename": "AttributeError",
     "evalue": "'int' object has no attribute 'int'",
     "output_type": "error",
     "traceback": [
      "\u001b[1;31m---------------------------------------------------------------------------\u001b[0m",
      "\u001b[1;31mAttributeError\u001b[0m                            Traceback (most recent call last)",
      "\u001b[1;32m<ipython-input-85-59fe64243e4d>\u001b[0m in \u001b[0;36m<module>\u001b[1;34m\u001b[0m\n\u001b[0;32m      4\u001b[0m \u001b[1;31m#print(x.to_bytes())\u001b[0m\u001b[1;33m\u001b[0m\u001b[1;33m\u001b[0m\u001b[1;33m\u001b[0m\u001b[0m\n\u001b[0;32m      5\u001b[0m \u001b[0mprint\u001b[0m\u001b[1;33m(\u001b[0m\u001b[0mx\u001b[0m\u001b[1;33m.\u001b[0m\u001b[0m__dir__\u001b[0m\u001b[1;33m(\u001b[0m\u001b[1;33m)\u001b[0m\u001b[1;33m)\u001b[0m\u001b[1;33m\u001b[0m\u001b[1;33m\u001b[0m\u001b[0m\n\u001b[1;32m----> 6\u001b[1;33m \u001b[0mprint\u001b[0m\u001b[1;33m(\u001b[0m\u001b[0mx\u001b[0m\u001b[1;33m.\u001b[0m\u001b[0m__getattribute__\u001b[0m\u001b[1;33m(\u001b[0m\u001b[1;34m'int'\u001b[0m\u001b[1;33m)\u001b[0m\u001b[1;33m)\u001b[0m\u001b[1;33m\u001b[0m\u001b[1;33m\u001b[0m\u001b[0m\n\u001b[0m",
      "\u001b[1;31mAttributeError\u001b[0m: 'int' object has no attribute 'int'"
     ]
    }
   ],
   "source": [
    "x=20\n",
    "x.bit_length()\n",
    "\n",
    "#print(x.to_bytes())\n",
    "print(x.__dir__())\n",
    "#print(x.__getattribute__('int'))"
   ]
  },
  {
   "cell_type": "code",
   "execution_count": 94,
   "metadata": {},
   "outputs": [
    {
     "name": "stdout",
     "output_type": "stream",
     "text": [
      "[100 110 120 130 140 150 160 170 180 190]\n",
      "10\n",
      "10\n",
      "20\n",
      "[[100 110]\n",
      " [120 130]\n",
      " [140 150]\n",
      " [160 170]\n",
      " [180 190]]\n"
     ]
    }
   ],
   "source": [
    "array=np.arange(100,200,10,dtype=np.int16)\n",
    "print(array)\n",
    "print(len(array))\n",
    "print(array.size)\n",
    "print(array.nbytes)\n",
    "array_new=np.reshape(array,(5,2))\n",
    "print(array_new)"
   ]
  },
  {
   "cell_type": "code",
   "execution_count": 100,
   "metadata": {},
   "outputs": [
    {
     "name": "stdout",
     "output_type": "stream",
     "text": [
      "[[11 22 33]\n",
      " [44 55 66]\n",
      " [77 88 99]]\n",
      "[[55]\n",
      " [88]]\n"
     ]
    }
   ],
   "source": [
    "sampleArray = np.array([[11 ,22, 33], [44, 55, 66], [77, 88, 99]])\n",
    "print(sampleArray)\n",
    "print(sampleArray[1:3,1:2])"
   ]
  },
  {
   "cell_type": "code",
   "execution_count": 102,
   "metadata": {},
   "outputs": [
    {
     "name": "stdout",
     "output_type": "stream",
     "text": [
      "[[ 3  6  9 12]\n",
      " [15 18 21 24]\n",
      " [27 30 33 36]\n",
      " [39 42 45 48]\n",
      " [51 54 57 60]]\n",
      "[[ 6 12]\n",
      " [30 36]\n",
      " [54 60]]\n"
     ]
    }
   ],
   "source": [
    "sampleArray = np.array([[3 ,6, 9, 12], [15 ,18, 21, 24], \n",
    "[27 ,30, 33, 36], [39 ,42, 45, 48], [51 ,54, 57, 60]])\n",
    "print(sampleArray)\n",
    "print(sampleArray[0::2,1::2])"
   ]
  },
  {
   "cell_type": "code",
   "execution_count": 106,
   "metadata": {},
   "outputs": [
    {
     "name": "stdout",
     "output_type": "stream",
     "text": [
      "[[1 2 3]\n",
      " [4 5 6]\n",
      " [7 8 9]]\n",
      "\n",
      "[[5 2 8]\n",
      " [1 4 7]\n",
      " [3 6 9]]\n",
      "\n",
      "[[ 6  4 11]\n",
      " [ 5  9 13]\n",
      " [10 14 18]]\n",
      "\n",
      "[[ 36  16 121]\n",
      " [ 25  81 169]\n",
      " [100 196 324]]\n"
     ]
    }
   ],
   "source": [
    "array1=np.array([[1,2,3],[4,5,6],[7,8,9]])\n",
    "array2=np.array([[5,2,8],[1,4,7],[3,6,9]])\n",
    "print(array1)\n",
    "print()\n",
    "print(array2)\n",
    "array3=array1+array2\n",
    "print()\n",
    "print(array3)\n",
    "print()\n",
    "array3=array3**2\n",
    "print(array3)"
   ]
  },
  {
   "cell_type": "code",
   "execution_count": 117,
   "metadata": {},
   "outputs": [
    {
     "name": "stdout",
     "output_type": "stream",
     "text": [
      "[10 11 12 13 14 15 16 17 18 19 20 21 22 23 24 25 26 27 28 29 30 31 32 33]\n",
      "\n",
      "[[10 11 12]\n",
      " [13 14 15]\n",
      " [16 17 18]\n",
      " [19 20 21]\n",
      " [22 23 24]\n",
      " [25 26 27]\n",
      " [28 29 30]\n",
      " [31 32 33]]\n",
      "24\n",
      "(8, 3)\n",
      "first : \n",
      "[[10 11 12]\n",
      " [13 14 15]]\n",
      "second : \n",
      "[[16 17 18]\n",
      " [19 20 21]]\n",
      "third : \n",
      "[[22 23 24]\n",
      " [25 26 27]]\n",
      "fourth : \n",
      "[[28 29 30]\n",
      " [31 32 33]]\n"
     ]
    }
   ],
   "source": [
    "array1=np.arange(10,34,1)\n",
    "print(array1)\n",
    "array1=np.reshape(array1,(8,3))\n",
    "print()\n",
    "print(array1)\n",
    "#print(np.split(array1,4))\n",
    "print(array1.size)\n",
    "print(array1.shape)\n",
    "print(\"first : \")\n",
    "print( array1[0:2,::])\n",
    "print(\"second : \")\n",
    "print( array1[2:4,::])\n",
    "print(\"third : \")\n",
    "print( array1[4:6,::])\n",
    "print(\"fourth : \")\n",
    "print( array1[6:,::])\n"
   ]
  },
  {
   "cell_type": "code",
   "execution_count": 123,
   "metadata": {},
   "outputs": [
    {
     "name": "stdout",
     "output_type": "stream",
     "text": [
      "[[34 43 73]\n",
      " [82 22 12]\n",
      " [53 94 66]]\n",
      "\n",
      "[34, 12, 53]\n",
      "[82, 94, 73]\n"
     ]
    }
   ],
   "source": [
    "sampleArray = np.array([[34,43,73],[82,22,12],[53,94,66]])\n",
    "print(sampleArray)\n",
    "print()\n",
    "#min accross axis 0\n",
    "list1=[]\n",
    "for i in range(0,3):\n",
    "    list1.append(min(sampleArray[i,::]))\n",
    "print(list1)\n",
    "list1=[]\n",
    "for i in range(0,3):\n",
    "    list1.append(max(sampleArray[::,i]))\n",
    "print(list1)"
   ]
  },
  {
   "cell_type": "code",
   "execution_count": 124,
   "metadata": {},
   "outputs": [
    {
     "name": "stdout",
     "output_type": "stream",
     "text": [
      "[[34 43 73]\n",
      " [82 22 12]\n",
      " [53 94 66]]\n",
      "[[34 43 73]\n",
      " [82 22 12]\n",
      " [53 94 66]]\n",
      "[[10 10 10]]\n"
     ]
    },
    {
     "ename": "ValueError",
     "evalue": "cannot delete array elements",
     "output_type": "error",
     "traceback": [
      "\u001b[1;31m---------------------------------------------------------------------------\u001b[0m",
      "\u001b[1;31mValueError\u001b[0m                                Traceback (most recent call last)",
      "\u001b[1;32m<ipython-input-124-ae586c47e84d>\u001b[0m in \u001b[0;36m<module>\u001b[1;34m\u001b[0m\n\u001b[0;32m      4\u001b[0m \u001b[0mprint\u001b[0m\u001b[1;33m(\u001b[0m\u001b[0msampleArray\u001b[0m\u001b[1;33m)\u001b[0m\u001b[1;33m\u001b[0m\u001b[1;33m\u001b[0m\u001b[0m\n\u001b[0;32m      5\u001b[0m \u001b[0mprint\u001b[0m\u001b[1;33m(\u001b[0m\u001b[0mnewColumn\u001b[0m\u001b[1;33m)\u001b[0m\u001b[1;33m\u001b[0m\u001b[1;33m\u001b[0m\u001b[0m\n\u001b[1;32m----> 6\u001b[1;33m \u001b[1;32mdel\u001b[0m \u001b[0msampleArray\u001b[0m\u001b[1;33m[\u001b[0m\u001b[1;33m:\u001b[0m\u001b[1;33m:\u001b[0m\u001b[1;33m,\u001b[0m\u001b[1;36m2\u001b[0m\u001b[1;33m]\u001b[0m\u001b[1;33m\u001b[0m\u001b[1;33m\u001b[0m\u001b[0m\n\u001b[0m\u001b[0;32m      7\u001b[0m \u001b[0mprint\u001b[0m\u001b[1;33m(\u001b[0m\u001b[0msampleArray\u001b[0m\u001b[1;33m)\u001b[0m\u001b[1;33m\u001b[0m\u001b[1;33m\u001b[0m\u001b[0m\n",
      "\u001b[1;31mValueError\u001b[0m: cannot delete array elements"
     ]
    }
   ],
   "source": [
    "sampleArray = np.array([[34,43,73],[82,22,12],[53,94,66]])\n",
    "print(sampleArray)\n",
    "newColumn = np.array([[10,10,10]])\n",
    "print(sampleArray)\n",
    "print(newColumn)\n",
    "del sampleArray[::,2]\n",
    "print(sampleArray)"
   ]
  },
  {
   "cell_type": "code",
   "execution_count": 125,
   "metadata": {},
   "outputs": [
    {
     "name": "stdout",
     "output_type": "stream",
     "text": [
      "EOE\n",
      "End Of Exercise\n"
     ]
    }
   ],
   "source": [
    "print(\"EOE\")\n",
    "print(\"End Of Exercise\")"
   ]
  }
 ],
 "metadata": {
  "kernelspec": {
   "display_name": "Python 3",
   "language": "python",
   "name": "python3"
  },
  "language_info": {
   "codemirror_mode": {
    "name": "ipython",
    "version": 3
   },
   "file_extension": ".py",
   "mimetype": "text/x-python",
   "name": "python",
   "nbconvert_exporter": "python",
   "pygments_lexer": "ipython3",
   "version": "3.7.6"
  }
 },
 "nbformat": 4,
 "nbformat_minor": 4
}
