{
 "cells": [
  {
   "cell_type": "code",
   "execution_count": 1,
   "metadata": {},
   "outputs": [
    {
     "name": "stdout",
     "output_type": "stream",
     "text": [
      "Hello\n"
     ]
    }
   ],
   "source": [
    "print(\"Hello\")"
   ]
  },
  {
   "cell_type": "code",
   "execution_count": 3,
   "metadata": {},
   "outputs": [
    {
     "name": "stdout",
     "output_type": "stream",
     "text": [
      "I am Method of MyClass\n"
     ]
    }
   ],
   "source": [
    "class MyClass(object):\n",
    "    def show(self):\n",
    "        print(\"I am Method of MyClass\")\n",
    "x=MyClass()\n",
    "x.show()"
   ]
  },
  {
   "cell_type": "code",
   "execution_count": 9,
   "metadata": {},
   "outputs": [
    {
     "name": "stdout",
     "output_type": "stream",
     "text": [
      "Model : Samsung S10\n",
      "Price :  6500\n",
      "Samsung S10\n",
      "Assigning a new model name to the ' Model'  variable \n",
      "after\n",
      "Model : Samsung Galaxy Star Pro \n",
      "Price :  6500\n",
      "Samsung Galaxy Star Pro \n"
     ]
    }
   ],
   "source": [
    "class mobile():\n",
    "    def __init__(self):\n",
    "        self.model=\"Samsung S10\"\n",
    "    def show(self):\n",
    "        price=6500\n",
    "        print(\"Model :\",self.model)\n",
    "        print(\"Price : \",price)\n",
    "x=mobile()\n",
    "x.show()\n",
    "print(x.model)\n",
    "print(\"Assigning a new model name to the ' Model'  variable \")\n",
    "print(\"after\")\n",
    "x.model='Samsung Galaxy Star Pro '\n",
    "x.show()\n",
    "print(x.model)"
   ]
  },
  {
   "cell_type": "code",
   "execution_count": 10,
   "metadata": {},
   "outputs": [
    {
     "name": "stdout",
     "output_type": "stream",
     "text": [
      "Model : Samsung S10\n",
      "Price :  6500\n",
      "Samsung S10\n",
      "Assigning a new model name to the ' Model'  variable \n",
      "after\n",
      "Model : Samsung Galaxy Star Pro \n",
      "Price :  6500\n",
      "Samsung Galaxy Star Pro \n"
     ]
    }
   ],
   "source": [
    "class mobile():\n",
    "    def __init__(self,model):\n",
    "        self.model=model\n",
    "    def show(self,price):\n",
    "        price=price\n",
    "        print(\"Model :\",self.model)\n",
    "        print(\"Price : \",price)\n",
    "x=mobile(\"Samsung S10\")\n",
    "x.show(6500)\n",
    "print(x.model)\n",
    "print(\"Assigning a new model name to the ' Model'  variable \")\n",
    "print(\"after\")\n",
    "x.model='Samsung Galaxy Star Pro '\n",
    "x.show(6500)\n",
    "print(x.model)"
   ]
  },
  {
   "cell_type": "code",
   "execution_count": 11,
   "metadata": {},
   "outputs": [
    {
     "name": "stdout",
     "output_type": "stream",
     "text": [
      "Model : Samsung S11\n",
      "Price :  6500\n",
      "Address of object x :  2043290890312\n",
      "Model : Samsung S11\n",
      "Price :  6500\n",
      "Address of object y :  2043290891208\n"
     ]
    }
   ],
   "source": [
    "# show that every object has its own address\n",
    "x=mobile(\"Samsung S11\")\n",
    "x.show(6500)\n",
    "print(\"Address of object x : \", id(x))\n",
    "y=mobile(\"Samsung S20\")\n",
    "x.show(6500)\n",
    "print(\"Address of object y : \", id(y))"
   ]
  },
  {
   "cell_type": "code",
   "execution_count": 21,
   "metadata": {},
   "outputs": [
    {
     "name": "stdout",
     "output_type": "stream",
     "text": [
      "Model : Samsung S10\n",
      "Price :  6500\n",
      "Samsung S10\n",
      "yes\n",
      "Finger Pring :  yes\n",
      "no\n",
      "Finger Pring :  no\n",
      "Accessing through object no\n"
     ]
    }
   ],
   "source": [
    "# class variables \n",
    "class mobile():\n",
    "    fp='yes'\n",
    "    def __init__(self,model):\n",
    "        self.model=model\n",
    "    def show(self,price):\n",
    "        price=price\n",
    "        print(\"Model :\",self.model)\n",
    "        print(\"Price : \",price)\n",
    "    @classmethod \n",
    "    def is_fp(cls):\n",
    "        print(\"Finger Pring : \" , cls.fp)\n",
    "x=mobile(\"Samsung S10\")\n",
    "x.show(6500)\n",
    "print(x.model)\n",
    "\n",
    "print(mobile.fp)\n",
    "mobile.is_fp()\n",
    "mobile.fp=\"no\"\n",
    "print(mobile.fp)\n",
    "mobile.is_fp()\n",
    "print(\"Accessing through object :\",x.fp)"
   ]
  },
  {
   "cell_type": "code",
   "execution_count": 27,
   "metadata": {},
   "outputs": [
    {
     "name": "stdout",
     "output_type": "stream",
     "text": [
      "2\n",
      "Bhawesh 98 99 97\n",
      "alpha 58 47 69\n",
      "Bhawesh\n",
      "98.0\n",
      "{'Bhawesh': [98.0, 99.0, 97.0], 'alpha': [58.0, 47.0, 69.0]}\n"
     ]
    }
   ],
   "source": [
    "if __name__ == '__main__':\n",
    "    n = int(input())\n",
    "    student_marks = {}\n",
    "    for _ in range(n):\n",
    "        name, *line = input().split()\n",
    "        scores = list(map(float, line))\n",
    "        student_marks[name] = scores\n",
    "    query_name = input()\n",
    "    l_list=student_marks[query_name]\n",
    "    print(round((sum(l_list)/len(l_list)), 2))\n",
    "print(student_marks)\n"
   ]
  },
  {
   "cell_type": "code",
   "execution_count": 33,
   "metadata": {},
   "outputs": [
    {
     "name": "stdout",
     "output_type": "stream",
     "text": [
      "2\n",
      "Bhawesh\n",
      "99\n",
      "Bhashkar\n",
      "98\n",
      "Bhawesh\n"
     ]
    }
   ],
   "source": [
    "n=int(input())\n",
    "arr=[[input(),float(input())] for _ in range(0,n)]\n",
    "arr.sort(key=lambda x: (x[1],x[0]))\n",
    "names = [i[0] for i in arr]\n",
    "marks = [i[1] for i in arr]\n",
    "min_val=min(marks)\n",
    "while marks[0]==min_val:\n",
    "    marks.remove(marks[0])\n",
    "    names.remove(names[0])    \n",
    "for x in range(0,len(marks)):\n",
    "    if marks[x]==min(marks):\n",
    "        print(names[x])"
   ]
  },
  {
   "cell_type": "code",
   "execution_count": 40,
   "metadata": {},
   "outputs": [
    {
     "name": "stdout",
     "output_type": "stream",
     "text": [
      "input number of items in the list 5\n",
      "input number of queries to be performed 2\n",
      "[0, 0, 0, 0, 0]\n",
      "[2, 6, 12, 20, 30]\n"
     ]
    }
   ],
   "source": [
    "n=int(input(\"input number of items in the list \"))\n",
    "q=int(input(\"input number of queries to be performed \"))\n",
    "l=[]\n",
    "for i in range(n):\n",
    "    l.append(0)\n",
    "print(l)\n",
    "for i in range(n):\n",
    "    l[i]= (l[i]+((i+1)*(i+2)))\n",
    "print(l)\n",
    "#query 2\n",
    "for i in range"
   ]
  },
  {
   "cell_type": "code",
   "execution_count": 47,
   "metadata": {},
   "outputs": [
    {
     "name": "stdout",
     "output_type": "stream",
     "text": [
      "Enter a list elements separated by space 11 1 34\n",
      "3\n",
      "[1, 1, 1]\n",
      "5\n",
      "[2, 1, 2]\n"
     ]
    }
   ],
   "source": [
    "input_string = input(\"Enter a list elements separated by space \")\n",
    "\n",
    "userList =(input_string.split()) \n",
    "n=len(userList)\n",
    "print(n)\n",
    "apple=[]\n",
    "for i in range(0,n):\n",
    "    apple.append(1)\n",
    "print(apple)\n",
    "for i in range(0,n):\n",
    "    if(i==0 and int(userList[0])>int(userList[1]) ):\n",
    "        apple[i]=apple[i]+1\n",
    "    elif(i==n-1 and int(userList[i])>int(userList[i-1]) ):\n",
    "        apple[i]=apple[i]+1\n",
    "    elif(int(userList[i])>int(userList[i-1]) or int(userList[i])>int(userList[i+1]) ):\n",
    "        apple[i]=apple[i]+1\n",
    "print(sum(apple))\n",
    "print(apple)"
   ]
  },
  {
   "cell_type": "code",
   "execution_count": 51,
   "metadata": {},
   "outputs": [
    {
     "ename": "IndexError",
     "evalue": "list index out of range",
     "output_type": "error",
     "traceback": [
      "\u001b[1;31m---------------------------------------------------------------------------\u001b[0m",
      "\u001b[1;31mIndexError\u001b[0m                                Traceback (most recent call last)",
      "\u001b[1;32m<ipython-input-51-f6378200eb94>\u001b[0m in \u001b[0;36m<module>\u001b[1;34m\u001b[0m\n\u001b[0;32m     15\u001b[0m     \u001b[1;32melif\u001b[0m\u001b[1;33m(\u001b[0m\u001b[0mi\u001b[0m\u001b[1;33m==\u001b[0m\u001b[0mn\u001b[0m\u001b[1;33m-\u001b[0m\u001b[1;36m1\u001b[0m \u001b[1;32mand\u001b[0m \u001b[1;33m(\u001b[0m\u001b[0muserList\u001b[0m\u001b[1;33m[\u001b[0m\u001b[0mi\u001b[0m\u001b[1;33m]\u001b[0m\u001b[1;33m)\u001b[0m\u001b[1;33m>\u001b[0m\u001b[1;33m(\u001b[0m\u001b[0muserList\u001b[0m\u001b[1;33m[\u001b[0m\u001b[0mi\u001b[0m\u001b[1;33m-\u001b[0m\u001b[1;36m1\u001b[0m\u001b[1;33m]\u001b[0m\u001b[1;33m)\u001b[0m \u001b[1;33m)\u001b[0m\u001b[1;33m:\u001b[0m\u001b[1;33m\u001b[0m\u001b[1;33m\u001b[0m\u001b[0m\n\u001b[0;32m     16\u001b[0m         \u001b[0mapple\u001b[0m\u001b[1;33m[\u001b[0m\u001b[0mi\u001b[0m\u001b[1;33m]\u001b[0m\u001b[1;33m=\u001b[0m\u001b[0mapple\u001b[0m\u001b[1;33m[\u001b[0m\u001b[0mi\u001b[0m\u001b[1;33m]\u001b[0m\u001b[1;33m+\u001b[0m\u001b[1;36m1\u001b[0m\u001b[1;33m\u001b[0m\u001b[1;33m\u001b[0m\u001b[0m\n\u001b[1;32m---> 17\u001b[1;33m     \u001b[1;32melif\u001b[0m\u001b[1;33m(\u001b[0m\u001b[1;33m(\u001b[0m\u001b[0muserList\u001b[0m\u001b[1;33m[\u001b[0m\u001b[0mi\u001b[0m\u001b[1;33m]\u001b[0m\u001b[1;33m)\u001b[0m\u001b[1;33m>\u001b[0m\u001b[1;33m(\u001b[0m\u001b[0muserList\u001b[0m\u001b[1;33m[\u001b[0m\u001b[0mi\u001b[0m\u001b[1;33m-\u001b[0m\u001b[1;36m1\u001b[0m\u001b[1;33m]\u001b[0m\u001b[1;33m)\u001b[0m \u001b[1;32mor\u001b[0m \u001b[1;33m(\u001b[0m\u001b[0muserList\u001b[0m\u001b[1;33m[\u001b[0m\u001b[0mi\u001b[0m\u001b[1;33m]\u001b[0m\u001b[1;33m)\u001b[0m\u001b[1;33m>\u001b[0m\u001b[1;33m(\u001b[0m\u001b[0muserList\u001b[0m\u001b[1;33m[\u001b[0m\u001b[0mi\u001b[0m\u001b[1;33m+\u001b[0m\u001b[1;36m1\u001b[0m\u001b[1;33m]\u001b[0m\u001b[1;33m)\u001b[0m \u001b[1;33m)\u001b[0m\u001b[1;33m:\u001b[0m\u001b[1;33m\u001b[0m\u001b[1;33m\u001b[0m\u001b[0m\n\u001b[0m\u001b[0;32m     18\u001b[0m         \u001b[0mapple\u001b[0m\u001b[1;33m[\u001b[0m\u001b[0mi\u001b[0m\u001b[1;33m]\u001b[0m\u001b[1;33m=\u001b[0m\u001b[0mapple\u001b[0m\u001b[1;33m[\u001b[0m\u001b[0mi\u001b[0m\u001b[1;33m]\u001b[0m\u001b[1;33m+\u001b[0m\u001b[1;36m1\u001b[0m\u001b[1;33m\u001b[0m\u001b[1;33m\u001b[0m\u001b[0m\n\u001b[0;32m     19\u001b[0m \u001b[0mprint\u001b[0m\u001b[1;33m(\u001b[0m\u001b[0msum\u001b[0m\u001b[1;33m(\u001b[0m\u001b[0mapple\u001b[0m\u001b[1;33m)\u001b[0m\u001b[1;33m)\u001b[0m\u001b[1;33m\u001b[0m\u001b[1;33m\u001b[0m\u001b[0m\n",
      "\u001b[1;31mIndexError\u001b[0m: list index out of range"
     ]
    }
   ],
   "source": [
    "#input_string = input(\"Enter a list elements separated by space \")\n",
    "\n",
    "#userList =(input_string.split())\n",
    "userList=[ 1, 2, 2 ]\n",
    "n=len(userList)\n",
    "#print(n)\n",
    "apple=[]\n",
    "for i in range(0,n):\n",
    "    apple.append(1)\n",
    "#print(apple)\n",
    "\n",
    "for i in range(0,n):\n",
    "    if(i==0 and (userList[0])>(userList[1]) ):\n",
    "        apple[i]=apple[i]+1\n",
    "    elif(i==n-1 and (userList[i])>(userList[i-1]) ):\n",
    "        apple[i]=apple[i]+1\n",
    "    elif((userList[i])>(userList[i-1]) or (userList[i])>(userList[i+1]) ):\n",
    "        apple[i]=apple[i]+1\n",
    "print(sum(apple))\n",
    "print(apple)"
   ]
  },
  {
   "cell_type": "code",
   "execution_count": 55,
   "metadata": {},
   "outputs": [
    {
     "name": "stdout",
     "output_type": "stream",
     "text": [
      "0\n",
      "1\n",
      "2\n"
     ]
    },
    {
     "ename": "IndexError",
     "evalue": "list index out of range",
     "output_type": "error",
     "traceback": [
      "\u001b[1;31m---------------------------------------------------------------------------\u001b[0m",
      "\u001b[1;31mIndexError\u001b[0m                                Traceback (most recent call last)",
      "\u001b[1;32m<ipython-input-55-5f476af73b09>\u001b[0m in \u001b[0;36m<module>\u001b[1;34m\u001b[0m\n\u001b[0;32m     16\u001b[0m     \u001b[1;32melif\u001b[0m\u001b[1;33m(\u001b[0m\u001b[0mi\u001b[0m\u001b[1;33m==\u001b[0m\u001b[0mn\u001b[0m\u001b[1;33m-\u001b[0m\u001b[1;36m1\u001b[0m \u001b[1;32mand\u001b[0m \u001b[1;33m(\u001b[0m\u001b[0muserList\u001b[0m\u001b[1;33m[\u001b[0m\u001b[0mi\u001b[0m\u001b[1;33m]\u001b[0m\u001b[1;33m)\u001b[0m\u001b[1;33m>\u001b[0m\u001b[1;33m(\u001b[0m\u001b[0muserList\u001b[0m\u001b[1;33m[\u001b[0m\u001b[0mi\u001b[0m\u001b[1;33m-\u001b[0m\u001b[1;36m1\u001b[0m\u001b[1;33m]\u001b[0m\u001b[1;33m)\u001b[0m \u001b[1;33m)\u001b[0m\u001b[1;33m:\u001b[0m\u001b[1;33m\u001b[0m\u001b[1;33m\u001b[0m\u001b[0m\n\u001b[0;32m     17\u001b[0m         \u001b[0mapple\u001b[0m\u001b[1;33m[\u001b[0m\u001b[0mi\u001b[0m\u001b[1;33m]\u001b[0m\u001b[1;33m=\u001b[0m\u001b[0mapple\u001b[0m\u001b[1;33m[\u001b[0m\u001b[0mi\u001b[0m\u001b[1;33m]\u001b[0m\u001b[1;33m+\u001b[0m\u001b[1;36m1\u001b[0m\u001b[1;33m\u001b[0m\u001b[1;33m\u001b[0m\u001b[0m\n\u001b[1;32m---> 18\u001b[1;33m     \u001b[1;32melif\u001b[0m\u001b[1;33m(\u001b[0m\u001b[1;33m(\u001b[0m\u001b[0muserList\u001b[0m\u001b[1;33m[\u001b[0m\u001b[0mi\u001b[0m\u001b[1;33m]\u001b[0m\u001b[1;33m)\u001b[0m\u001b[1;33m>\u001b[0m\u001b[1;33m(\u001b[0m\u001b[0muserList\u001b[0m\u001b[1;33m[\u001b[0m\u001b[0mi\u001b[0m\u001b[1;33m-\u001b[0m\u001b[1;36m1\u001b[0m\u001b[1;33m]\u001b[0m\u001b[1;33m)\u001b[0m \u001b[1;32mor\u001b[0m \u001b[1;33m(\u001b[0m\u001b[0muserList\u001b[0m\u001b[1;33m[\u001b[0m\u001b[0mi\u001b[0m\u001b[1;33m]\u001b[0m\u001b[1;33m)\u001b[0m\u001b[1;33m>\u001b[0m\u001b[1;33m(\u001b[0m\u001b[0muserList\u001b[0m\u001b[1;33m[\u001b[0m\u001b[0mi\u001b[0m\u001b[1;33m+\u001b[0m\u001b[1;36m1\u001b[0m\u001b[1;33m]\u001b[0m\u001b[1;33m)\u001b[0m \u001b[1;33m)\u001b[0m\u001b[1;33m:\u001b[0m\u001b[1;33m\u001b[0m\u001b[1;33m\u001b[0m\u001b[0m\n\u001b[0m\u001b[0;32m     19\u001b[0m         \u001b[0mapple\u001b[0m\u001b[1;33m[\u001b[0m\u001b[0mi\u001b[0m\u001b[1;33m]\u001b[0m\u001b[1;33m=\u001b[0m\u001b[0mapple\u001b[0m\u001b[1;33m[\u001b[0m\u001b[0mi\u001b[0m\u001b[1;33m]\u001b[0m\u001b[1;33m+\u001b[0m\u001b[1;36m1\u001b[0m\u001b[1;33m\u001b[0m\u001b[1;33m\u001b[0m\u001b[0m\n\u001b[0;32m     20\u001b[0m \u001b[0msums\u001b[0m\u001b[1;33m=\u001b[0m\u001b[0mapple\u001b[0m\u001b[1;33m[\u001b[0m\u001b[1;36m0\u001b[0m\u001b[1;33m]\u001b[0m\u001b[1;33m+\u001b[0m\u001b[0mapple\u001b[0m\u001b[1;33m[\u001b[0m\u001b[1;36m1\u001b[0m\u001b[1;33m]\u001b[0m\u001b[1;33m+\u001b[0m\u001b[0mapple\u001b[0m\u001b[1;33m[\u001b[0m\u001b[1;36m2\u001b[0m\u001b[1;33m]\u001b[0m\u001b[1;33m\u001b[0m\u001b[1;33m\u001b[0m\u001b[0m\n",
      "\u001b[1;31mIndexError\u001b[0m: list index out of range"
     ]
    }
   ],
   "source": [
    "#input_string = input(\"Enter a list elements separated by space \")\n",
    "\n",
    "#userList =(input_string.split())\n",
    "userList=[1,2,2]\n",
    "n=len(userList)\n",
    "#print(n)\n",
    "apple=[]\n",
    "for i in range(0,n):\n",
    "    apple.append(1)\n",
    "#print(apple)\n",
    "\n",
    "for i in range(0,n):\n",
    "    print(i)\n",
    "    if(i==0 and (userList[0])>(userList[1]) ):\n",
    "        apple[i]=apple[i]+1\n",
    "    elif(i==n-1 and (userList[i])>(userList[i-1]) ):\n",
    "        apple[i]=apple[i]+1\n",
    "    elif((userList[i])>(userList[i-1]) or (userList[i])>(userList[i+1]) ):\n",
    "        apple[i]=apple[i]+1\n",
    "sums=apple[0]+apple[1]+apple[2]\n",
    "print(sums)\n",
    "#print(apple)\n"
   ]
  },
  {
   "cell_type": "code",
   "execution_count": 56,
   "metadata": {},
   "outputs": [],
   "source": [
    "#oop Continue"
   ]
  },
  {
   "cell_type": "code",
   "execution_count": 57,
   "metadata": {},
   "outputs": [
    {
     "name": "stdout",
     "output_type": "stream",
     "text": [
      "Hello\n"
     ]
    }
   ],
   "source": [
    "\n",
    "print(\"Hello\")"
   ]
  },
  {
   "cell_type": "code",
   "execution_count": 62,
   "metadata": {},
   "outputs": [
    {
     "name": "stdout",
     "output_type": "stream",
     "text": [
      "Samsung Galaxy Satr pro\n",
      "6500\n"
     ]
    }
   ],
   "source": [
    "#geteer and mutater method\n",
    "class mobile():\n",
    "    def set_model(self,model):\n",
    "        self.model=model\n",
    "    def set_price(self,price):\n",
    "        self.price=price\n",
    "    \n",
    "    # Geetter method\n",
    "    def get_model(self):\n",
    "        return self.model\n",
    "    def get_price(self):\n",
    "        return self.price\n",
    "m1=mobile()\n",
    "m1.set_model(\"Samsung Galaxy Satr pro\")\n",
    "m1.set_price(6500)\n",
    "print(m1.get_model())\n",
    "print(m1.get_price())\n",
    "   "
   ]
  },
  {
   "cell_type": "code",
   "execution_count": 63,
   "metadata": {},
   "outputs": [
    {
     "name": "stdout",
     "output_type": "stream",
     "text": [
      "Hello\n"
     ]
    }
   ],
   "source": [
    "print(\"Hello\")"
   ]
  },
  {
   "cell_type": "code",
   "execution_count": 66,
   "metadata": {},
   "outputs": [
    {
     "name": "stdout",
     "output_type": "stream",
     "text": [
      "yes\n",
      "Ram: 10Gb\n",
      "finger print : yes\n",
      "10Gb\n",
      "Ram: 20Gb\n",
      "finger print : yes\n"
     ]
    }
   ],
   "source": [
    "class mobile():\n",
    "    finger_print='yes'\n",
    "    @classmethod\n",
    "    def class_method(cls,r):\n",
    "        cls.ram=r\n",
    "        print('Ram:',cls.ram)\n",
    "        print(\"finger print :\" , cls.finger_print)\n",
    "x=mobile()\n",
    "print(mobile.finger_print)\n",
    "mobile.class_method('10Gb')\n",
    "print(mobile.ram)\n",
    "mobile.class_method('20Gb')"
   ]
  },
  {
   "cell_type": "code",
   "execution_count": 1,
   "metadata": {},
   "outputs": [
    {
     "name": "stdout",
     "output_type": "stream",
     "text": [
      "Hello\n"
     ]
    }
   ],
   "source": [
    "print(\"Hello\")"
   ]
  },
  {
   "cell_type": "code",
   "execution_count": 6,
   "metadata": {},
   "outputs": [
    {
     "name": "stdout",
     "output_type": "stream",
     "text": [
      "Bhawesh Bhashkar\n",
      "2018UEE0155\n",
      "Name of the student : Bhawesh Bhashkar\n",
      "Roll Number of the student : 2018UEE0155\n",
      "\n",
      "changing the name\n",
      "\n",
      "Narendra Modi\n",
      "2018UEE0156\n",
      "Name of the student : Narendra Modi\n",
      "Roll Number of the student : 2018UEE0156\n"
     ]
    }
   ],
   "source": [
    "# passing a member of one class to antother class\n",
    "class student:\n",
    "    def __init__(self,name,roll):\n",
    "        self.name=name\n",
    "        self.roll=roll\n",
    "    def show_details(self):\n",
    "        print(\"Name of the student :\",self.name)\n",
    "        print(\"Roll Number of the student :\",self.roll)\n",
    "s1=student(\"Bhawesh Bhashkar\",\"2018UEE0155\")\n",
    "print(s1.name)\n",
    "print(s1.roll)\n",
    "s1.show_details()\n",
    "\n",
    "print()\n",
    "print(\"changing the name\")\n",
    "s1.name=\"Narendra Modi\"\n",
    "s1.roll=\"2018UEE0156\"\n",
    "print()\n",
    "print(s1.name)\n",
    "print(s1.roll)\n",
    "s1.show_details()\n",
    "        "
   ]
  },
  {
   "cell_type": "code",
   "execution_count": 11,
   "metadata": {},
   "outputs": [
    {
     "name": "stdout",
     "output_type": "stream",
     "text": [
      "Name of The student :  Rahul\n",
      "Roll of The student :  2018UEE0125\n",
      "\n",
      "calling the class 'Student' Method \n",
      "\n",
      "Name of the student : Rahul\n",
      "Roll Number of the student : 2018UEE0125\n",
      "\n"
     ]
    }
   ],
   "source": [
    "class student:\n",
    "    def __init__(self,name,roll):\n",
    "        self.name=name\n",
    "        self.roll=roll\n",
    "    def show_details(self):\n",
    "        print(\"Name of the student :\",self.name)\n",
    "        print(\"Roll Number of the student :\",self.roll)\n",
    "class user:\n",
    "    \n",
    "    def show(self,s):\n",
    "        print(\"Name of The student : \",s.name)\n",
    "        print(\"Roll of The student : \",s.roll)\n",
    "        print()\n",
    "        print(\"calling the class 'Student' Method \")\n",
    "        print()\n",
    "        s.show_details()\n",
    "s1=student(\"Rahul\",\"2018UEE0125\")\n",
    "u1=user()\n",
    "u1.show(s1)\n",
    "\n",
    "print()\n"
   ]
  },
  {
   "cell_type": "markdown",
   "metadata": {},
   "source": [
    "# nested class"
   ]
  },
  {
   "cell_type": "code",
   "execution_count": 21,
   "metadata": {},
   "outputs": [
    {
     "name": "stdout",
     "output_type": "stream",
     "text": [
      "Rahul\n",
      "Name of the Army Man: Rahul\n",
      "\n",
      "AK47\n",
      "76 Rounds\n",
      "40 Inches\n",
      "\n",
      "Name of the Gun : AK47\n",
      "Capacity of the Gun : 76 Rounds\n",
      "Length of the Gun : 40 Inches\n",
      "\n",
      "AK47\n",
      "76 Rounds\n",
      "40 Inches\n",
      "\n",
      "Name of the Gun : AK47\n",
      "Capacity of the Gun : 76 Rounds\n",
      "Length of the Gun : 40 Inches\n"
     ]
    }
   ],
   "source": [
    "class army():\n",
    "    def __init__(self):\n",
    "        self.name=\"Rahul\"\n",
    "        self.gn=self.gun()\n",
    "    def show_details(self):\n",
    "        print(\"Name of the Army Man:\",self.name)\n",
    "        \n",
    "    class gun():\n",
    "        def __init__(self):\n",
    "            self.name=\"AK47\"\n",
    "            self.capacity=\"76 Rounds\"\n",
    "            self.length=\"40 Inches\"\n",
    "        def disp(self):\n",
    "            print(\"Name of the Gun :\",self.name)\n",
    "            print(\"Capacity of the Gun :\",self.capacity)\n",
    "            print(\"Length of the Gun :\",self.length)\n",
    "        \n",
    "a1=army()\n",
    "print(a1.name)\n",
    "a1.show_details()\n",
    "print()\n",
    "g1=army().gun()\n",
    "print(g1.name)\n",
    "print(g1.capacity)\n",
    "print(g1.length)\n",
    "print()\n",
    "g1.disp()\n",
    "print()\n",
    "print(a1.gn.name)\n",
    "print(a1.gn.capacity)\n",
    "print(a1.gn.length)\n",
    "print()\n",
    "a1.gn.disp()\n",
    "\n",
    "\n"
   ]
  },
  {
   "cell_type": "code",
   "execution_count": 22,
   "metadata": {},
   "outputs": [],
   "source": [
    "# Inheritance"
   ]
  },
  {
   "cell_type": "markdown",
   "metadata": {},
   "source": [
    "# Inheritance "
   ]
  },
  {
   "cell_type": "code",
   "execution_count": 29,
   "metadata": {},
   "outputs": [
    {
     "name": "stdout",
     "output_type": "stream",
     "text": [
      "Child class instance mthod\n",
      "Parent class Instance method \n",
      "Parent class Class method \n",
      "Parent has money : 1000 Rupee\n",
      "parent class static method \n"
     ]
    }
   ],
   "source": [
    "class father:\n",
    "    money=1000\n",
    "    def show(self):\n",
    "        print(\"Parent class Instance method \")\n",
    "    @classmethod\n",
    "    def show_money(cls):\n",
    "        print(\"Parent class Class method \")\n",
    "        print(\"Parent has money :\",cls.money,\"Rupee\")\n",
    "    @staticmethod\n",
    "    def stat():\n",
    "        a=10\n",
    "        print(\"parent class static method \")\n",
    "        \n",
    "class son(father):\n",
    "    def disp(self):\n",
    "        print(\"Child class instance mthod\")\n",
    "# \n",
    "\n",
    "s=son()\n",
    "s.disp()\n",
    "s.show()\n",
    "s.show_money()\n",
    "s.stat()"
   ]
  },
  {
   "cell_type": "code",
   "execution_count": 30,
   "metadata": {},
   "outputs": [
    {
     "name": "stdout",
     "output_type": "stream",
     "text": [
      "Hello\n"
     ]
    }
   ],
   "source": [
    "print(\"Hello\")"
   ]
  },
  {
   "cell_type": "markdown",
   "metadata": {},
   "source": [
    "# 11/08/2020\n",
    "# 5:01 PM"
   ]
  },
  {
   "cell_type": "code",
   "execution_count": 34,
   "metadata": {
    "scrolled": true
   },
   "outputs": [
    {
     "name": "stdout",
     "output_type": "stream",
     "text": [
      "Parent class Instance method \n",
      "Parent class Class method \n",
      "Parent has money : 1000 Rupee\n",
      "parent class static method \n",
      "\n",
      "Child class instance mthod\n"
     ]
    }
   ],
   "source": [
    "# Class methods , class variables ,instance methods inherits as welll\n",
    "# accesing parent class methods\n",
    "p=father()\n",
    "p.show()\n",
    "p.show_money()\n",
    "p.stat()\n",
    "\n",
    "print()\n",
    "\n",
    "s=son()\n",
    "s.disp()"
   ]
  },
  {
   "cell_type": "code",
   "execution_count": 47,
   "metadata": {},
   "outputs": [
    {
     "name": "stdout",
     "output_type": "stream",
     "text": [
      "Parent class constructor is called\n",
      "Child class instance mthod\n",
      "property : 1500\n"
     ]
    }
   ],
   "source": [
    "# constructor inheritance \n",
    "class father:\n",
    "    \n",
    "    money=1000\n",
    "    def __init__(self):\n",
    "        self.property=1500\n",
    "        print(\"Parent class constructor is called\")\n",
    "    \n",
    "    def show(self):\n",
    "        print(\"Parent class Instance method \")\n",
    "    @classmethod\n",
    "    def show_money(cls):\n",
    "        print(\"Parent class Class method \")\n",
    "        print(\"Parent has money :\",cls.money,\"Rupee\")\n",
    "    @staticmethod\n",
    "    def stat():\n",
    "        a=10\n",
    "        print(\"parent class static method \")\n",
    "        \n",
    "class son(father):\n",
    "    \n",
    "    def disp(self):\n",
    "        print(\"Child class instance mthod\")\n",
    "        print(\"property :\",self.property)\n",
    "s1=son()\n",
    "#s1.show()\n",
    "#f1=father()\n",
    "#print(f1.property)\n",
    "#s1.show()\n",
    "s1.disp()\n"
   ]
  },
  {
   "cell_type": "code",
   "execution_count": null,
   "metadata": {},
   "outputs": [],
   "source": []
  },
  {
   "cell_type": "markdown",
   "metadata": {},
   "source": [
    " #  hh"
   ]
  },
  {
   "cell_type": "code",
   "execution_count": null,
   "metadata": {},
   "outputs": [],
   "source": []
  }
 ],
 "metadata": {
  "kernelspec": {
   "display_name": "Python 3",
   "language": "python",
   "name": "python3"
  },
  "language_info": {
   "codemirror_mode": {
    "name": "ipython",
    "version": 3
   },
   "file_extension": ".py",
   "mimetype": "text/x-python",
   "name": "python",
   "nbconvert_exporter": "python",
   "pygments_lexer": "ipython3",
   "version": "3.7.6"
  }
 },
 "nbformat": 4,
 "nbformat_minor": 4
}
