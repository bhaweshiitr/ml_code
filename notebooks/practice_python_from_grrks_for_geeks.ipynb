{
 "cells": [
  {
   "cell_type": "code",
   "execution_count": 1,
   "metadata": {},
   "outputs": [
    {
     "name": "stdout",
     "output_type": "stream",
     "text": [
      "hello\n"
     ]
    }
   ],
   "source": [
    "print(\"hello\")"
   ]
  },
  {
   "cell_type": "markdown",
   "metadata": {},
   "source": [
    "# Possible Words using given characters in Python"
   ]
  },
  {
   "cell_type": "code",
   "execution_count": 22,
   "metadata": {},
   "outputs": [
    {
     "name": "stdout",
     "output_type": "stream",
     "text": [
      "['go', 'bat', 'me', 'eat', 'goal', 'boy', 'run', 'amgl']\n",
      "['go', 'me', 'goal', 'run', 'amgl']\n"
     ]
    }
   ],
   "source": [
    "Dict = [\"go\",\"bat\",\"me\",\"eat\",\"goal\",\"boy\", \"run\",\"amgl\"]\n",
    "arr = ['e','o','b', 'a','m','g', 'l']\n",
    "dict1=Dict.copy()\n",
    "print(dict1)\n",
    "for words in dict1:\n",
    "    #print(words)\n",
    "    word=words\n",
    "    for i in range(0,len(words)):\n",
    "        if(word[i] not in arr):\n",
    "            dict1.remove(words)\n",
    "            break\n",
    "        \n",
    "             \n",
    "    \n",
    "print(dict1)  \n",
    "\n",
    "      \n",
    "        \n",
    "#print(\"Complete\")  \n",
    "    \n",
    "        \n"
   ]
  },
  {
   "cell_type": "code",
   "execution_count": null,
   "metadata": {},
   "outputs": [],
   "source": []
  },
  {
   "cell_type": "code",
   "execution_count": 11,
   "metadata": {},
   "outputs": [
    {
     "name": "stdout",
     "output_type": "stream",
     "text": [
      "['e', 'o', 'b', 'a', 'm', 'g', 'l']\n"
     ]
    }
   ],
   "source": [
    "print(str(arr))\n"
   ]
  },
  {
   "cell_type": "code",
   "execution_count": null,
   "metadata": {},
   "outputs": [],
   "source": [
    "arr = ['e','o','b', 'a','m','g', 'l']\n",
    "list1=[]\n",
    "def print_sequences(char_list, n, _accum):\n",
    "    if len(_accum) == n:\n",
    "        print(_accum)\n",
    "        list1.append(_accum)\n",
    "        \n",
    "        \n",
    "        \n",
    "    else:\n",
    "        for c in char_list:\n",
    "            print_sequences(char_list, n, _accum+[c])\n",
    "\n",
    "\n",
    "print_sequences(arr, 7, [])\n"
   ]
  },
  {
   "cell_type": "code",
   "execution_count": 7,
   "metadata": {},
   "outputs": [],
   "source": [
    "array=[\"\"]\n",
    "for i in range(0,len(arr)):\n",
    "    for j in range(0,len(arr)):\n",
    "        #array.append(arr[i]+arr[j])\n",
    "        for k in range(0,len(arr)):\n",
    "            array.append(arr[i]+arr[j]+arr[k])\n",
    "            "
   ]
  },
  {
   "cell_type": "code",
   "execution_count": 8,
   "metadata": {
    "scrolled": true
   },
   "outputs": [
    {
     "name": "stdout",
     "output_type": "stream",
     "text": [
      "['', 'eee', 'eeo', 'eeb', 'eea', 'eem', 'eeg', 'eel', 'eoe', 'eoo', 'eob', 'eoa', 'eom', 'eog', 'eol', 'ebe', 'ebo', 'ebb', 'eba', 'ebm', 'ebg', 'ebl', 'eae', 'eao', 'eab', 'eaa', 'eam', 'eag', 'eal', 'eme', 'emo', 'emb', 'ema', 'emm', 'emg', 'eml', 'ege', 'ego', 'egb', 'ega', 'egm', 'egg', 'egl', 'ele', 'elo', 'elb', 'ela', 'elm', 'elg', 'ell', 'oee', 'oeo', 'oeb', 'oea', 'oem', 'oeg', 'oel', 'ooe', 'ooo', 'oob', 'ooa', 'oom', 'oog', 'ool', 'obe', 'obo', 'obb', 'oba', 'obm', 'obg', 'obl', 'oae', 'oao', 'oab', 'oaa', 'oam', 'oag', 'oal', 'ome', 'omo', 'omb', 'oma', 'omm', 'omg', 'oml', 'oge', 'ogo', 'ogb', 'oga', 'ogm', 'ogg', 'ogl', 'ole', 'olo', 'olb', 'ola', 'olm', 'olg', 'oll', 'bee', 'beo', 'beb', 'bea', 'bem', 'beg', 'bel', 'boe', 'boo', 'bob', 'boa', 'bom', 'bog', 'bol', 'bbe', 'bbo', 'bbb', 'bba', 'bbm', 'bbg', 'bbl', 'bae', 'bao', 'bab', 'baa', 'bam', 'bag', 'bal', 'bme', 'bmo', 'bmb', 'bma', 'bmm', 'bmg', 'bml', 'bge', 'bgo', 'bgb', 'bga', 'bgm', 'bgg', 'bgl', 'ble', 'blo', 'blb', 'bla', 'blm', 'blg', 'bll', 'aee', 'aeo', 'aeb', 'aea', 'aem', 'aeg', 'ael', 'aoe', 'aoo', 'aob', 'aoa', 'aom', 'aog', 'aol', 'abe', 'abo', 'abb', 'aba', 'abm', 'abg', 'abl', 'aae', 'aao', 'aab', 'aaa', 'aam', 'aag', 'aal', 'ame', 'amo', 'amb', 'ama', 'amm', 'amg', 'aml', 'age', 'ago', 'agb', 'aga', 'agm', 'agg', 'agl', 'ale', 'alo', 'alb', 'ala', 'alm', 'alg', 'all', 'mee', 'meo', 'meb', 'mea', 'mem', 'meg', 'mel', 'moe', 'moo', 'mob', 'moa', 'mom', 'mog', 'mol', 'mbe', 'mbo', 'mbb', 'mba', 'mbm', 'mbg', 'mbl', 'mae', 'mao', 'mab', 'maa', 'mam', 'mag', 'mal', 'mme', 'mmo', 'mmb', 'mma', 'mmm', 'mmg', 'mml', 'mge', 'mgo', 'mgb', 'mga', 'mgm', 'mgg', 'mgl', 'mle', 'mlo', 'mlb', 'mla', 'mlm', 'mlg', 'mll', 'gee', 'geo', 'geb', 'gea', 'gem', 'geg', 'gel', 'goe', 'goo', 'gob', 'goa', 'gom', 'gog', 'gol', 'gbe', 'gbo', 'gbb', 'gba', 'gbm', 'gbg', 'gbl', 'gae', 'gao', 'gab', 'gaa', 'gam', 'gag', 'gal', 'gme', 'gmo', 'gmb', 'gma', 'gmm', 'gmg', 'gml', 'gge', 'ggo', 'ggb', 'gga', 'ggm', 'ggg', 'ggl', 'gle', 'glo', 'glb', 'gla', 'glm', 'glg', 'gll', 'lee', 'leo', 'leb', 'lea', 'lem', 'leg', 'lel', 'loe', 'loo', 'lob', 'loa', 'lom', 'log', 'lol', 'lbe', 'lbo', 'lbb', 'lba', 'lbm', 'lbg', 'lbl', 'lae', 'lao', 'lab', 'laa', 'lam', 'lag', 'lal', 'lme', 'lmo', 'lmb', 'lma', 'lmm', 'lmg', 'lml', 'lge', 'lgo', 'lgb', 'lga', 'lgm', 'lgg', 'lgl', 'lle', 'llo', 'llb', 'lla', 'llm', 'llg', 'lll']\n"
     ]
    }
   ],
   "source": [
    "print(array)"
   ]
  },
  {
   "cell_type": "code",
   "execution_count": 2,
   "metadata": {},
   "outputs": [
    {
     "name": "stdout",
     "output_type": "stream",
     "text": [
      "Hii\n"
     ]
    }
   ],
   "source": [
    "print(\"Hii\")"
   ]
  },
  {
   "cell_type": "markdown",
   "metadata": {},
   "source": [
    "# REcursion "
   ]
  },
  {
   "cell_type": "code",
   "execution_count": 16,
   "metadata": {},
   "outputs": [
    {
     "name": "stdout",
     "output_type": "stream",
     "text": [
      "3628800\n",
      "time taken:  0.0\n"
     ]
    }
   ],
   "source": [
    "import time\n",
    "\n",
    "def factorial(n):\n",
    "    if(n==1):\n",
    "        return 1\n",
    "    else:\n",
    "        return n*factorial(n-1)\n",
    "t1=time.time()\n",
    "print(factorial(10))\n",
    "t2=time.time()\n",
    "print(\"time taken: \",t2-t1)"
   ]
  },
  {
   "cell_type": "code",
   "execution_count": 24,
   "metadata": {},
   "outputs": [
    {
     "data": {
      "text/plain": [
       "8"
      ]
     },
     "execution_count": 24,
     "metadata": {},
     "output_type": "execute_result"
    }
   ],
   "source": [
    "# recursively finding a febonachi series\n",
    "def fibonachhi(n):\n",
    "    if(n==0):\n",
    "        return 0\n",
    "    if(n==1):\n",
    "        return 1\n",
    "    else :\n",
    "        #print(fibonachhi(n-1))\n",
    "        return  fibonachhi(n-1)+fibonachhi(n-2)\n",
    "fibonachhi(6)"
   ]
  },
  {
   "cell_type": "code",
   "execution_count": 4,
   "metadata": {},
   "outputs": [
    {
     "data": {
      "text/plain": [
       "9"
      ]
     },
     "execution_count": 4,
     "metadata": {},
     "output_type": "execute_result"
    }
   ],
   "source": [
    "#print the number of digits a number have \n",
    "def no_of_digit(n):\n",
    "    if(n<10):\n",
    "        return 1\n",
    "    else:\n",
    "        return 1+no_of_digit(n/10)\n",
    "no_of_digit(123456789)"
   ]
  },
  {
   "cell_type": "code",
   "execution_count": 7,
   "metadata": {},
   "outputs": [
    {
     "name": "stdout",
     "output_type": "stream",
     "text": [
      "46\n"
     ]
    }
   ],
   "source": [
    "#Finding the maximum stored in a list\n",
    "def max_of_list(l1):\n",
    "    if(len(l1)<=1):\n",
    "        \n",
    "        return l1[0]\n",
    "    else:\n",
    "        m= max_of_list(l1[1:len(l1)])\n",
    "        if(m>l1[0]):\n",
    "            return m\n",
    "        else :\n",
    "            return l1[0]\n",
    "print(max_of_list([2,4,6,23,1,46]))"
   ]
  }
 ],
 "metadata": {
  "kernelspec": {
   "display_name": "Python 3",
   "language": "python",
   "name": "python3"
  }
 },
 "nbformat": 4,
 "nbformat_minor": 4
}
