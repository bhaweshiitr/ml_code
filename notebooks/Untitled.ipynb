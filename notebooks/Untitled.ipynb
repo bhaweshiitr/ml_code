{
 "cells": [
  {
   "cell_type": "code",
   "execution_count": 1,
   "metadata": {},
   "outputs": [
    {
     "name": "stdout",
     "output_type": "stream",
     "text": [
      "Hello\n"
     ]
    }
   ],
   "source": [
    "print(\"Hello\")"
   ]
  },
  {
   "cell_type": "markdown",
   "metadata": {},
   "source": [
    "### HI\n",
    "--hbciac\n",
    "--bvjacbj\n",
    "\n"
   ]
  },
  {
   "cell_type": "code",
   "execution_count": 2,
   "metadata": {},
   "outputs": [
    {
     "name": "stdout",
     "output_type": "stream",
     "text": [
      "[[1 1 6 2 5]\n",
      " [2 6 9 8 9]\n",
      " [4 4 1 9 9]\n",
      " [2 9 1 8 1]\n",
      " [8 8 5 7 6]]\n"
     ]
    }
   ],
   "source": [
    "import numpy as np\n",
    "A=np.random.randint(10,size=(5,5))\n",
    "print(A)"
   ]
  },
  {
   "cell_type": "code",
   "execution_count": 3,
   "metadata": {},
   "outputs": [
    {
     "name": "stdout",
     "output_type": "stream",
     "text": [
      "[[5 9 0 7 6]\n",
      " [3 2 9 4 8]\n",
      " [5 0 1 7 2]\n",
      " [5 3 3 9 2]\n",
      " [5 4 4 7 7]]\n",
      "1\n"
     ]
    }
   ],
   "source": [
    "import numpy as np\n",
    "B=np.random.randint(10,size=(5,5))\n",
    "print(B)\n",
    "print(B[2,2])\n",
    "#print(A)"
   ]
  },
  {
   "cell_type": "code",
   "execution_count": 4,
   "metadata": {},
   "outputs": [
    {
     "name": "stdout",
     "output_type": "stream",
     "text": [
      "[[0 0 0 0 0]\n",
      " [0 0 0 0 0]\n",
      " [0 0 0 0 0]\n",
      " [0 0 0 0 0]\n",
      " [0 0 0 0 0]]\n"
     ]
    }
   ],
   "source": [
    "c=np.zeros((5,5),int)\n",
    "print(c)"
   ]
  },
  {
   "cell_type": "code",
   "execution_count": 5,
   "metadata": {},
   "outputs": [
    {
     "name": "stdout",
     "output_type": "stream",
     "text": [
      "[[ 6 10  6  9 11]\n",
      " [ 5  8 18 12 17]\n",
      " [ 9  4  2 16 11]\n",
      " [ 7 12  4 17  3]\n",
      " [13 12  9 14 13]]\n",
      "[[ 6 10  6  9 11]\n",
      " [ 5  8 18 12 17]\n",
      " [ 9  4  2 16 11]\n",
      " [ 7 12  4 17  3]\n",
      " [13 12  9 14 13]]\n"
     ]
    }
   ],
   "source": [
    "for i in range(5):\n",
    "    for j in range(5):\n",
    "        c[i,j]=A[i,j]+B[i,j]\n",
    "print(c)\n",
    "print(A+B)\n",
    "D=A+B\n"
   ]
  },
  {
   "cell_type": "code",
   "execution_count": 6,
   "metadata": {},
   "outputs": [
    {
     "name": "stdout",
     "output_type": "stream",
     "text": [
      "<class 'numpy.ndarray'>\n",
      "(5, 5)\n",
      "25\n"
     ]
    }
   ],
   "source": [
    "print(type(c))\n",
    "print(c.shape)\n",
    "print(c.size)"
   ]
  },
  {
   "cell_type": "code",
   "execution_count": 7,
   "metadata": {},
   "outputs": [],
   "source": [
    "#dir(c)"
   ]
  },
  {
   "cell_type": "code",
   "execution_count": 8,
   "metadata": {},
   "outputs": [
    {
     "name": "stdout",
     "output_type": "stream",
     "text": [
      "D1 : [[[8 0 6 7 6]\n",
      "  [4 2 6 6 2]\n",
      "  [4 5 1 5 3]\n",
      "  [0 6 1 5 6]\n",
      "  [0 6 5 1 2]]\n",
      "\n",
      " [[9 3 9 1 5]\n",
      "  [7 4 6 8 4]\n",
      "  [8 9 8 6 9]\n",
      "  [3 3 2 6 6]\n",
      "  [1 9 9 3 0]]\n",
      "\n",
      " [[2 9 6 6 5]\n",
      "  [9 1 9 7 0]\n",
      "  [8 6 2 4 7]\n",
      "  [0 2 8 9 0]\n",
      "  [4 7 3 5 1]]\n",
      "\n",
      " [[3 6 2 1 7]\n",
      "  [8 0 7 0 0]\n",
      "  [4 3 3 1 8]\n",
      "  [2 7 2 3 9]\n",
      "  [2 4 9 6 1]]\n",
      "\n",
      " [[2 2 3 5 7]\n",
      "  [6 2 1 5 4]\n",
      "  [5 6 6 6 5]\n",
      "  [9 0 5 6 1]\n",
      "  [8 6 3 6 3]]]\n",
      "D2 : [[[3 2 8 1 5]\n",
      "  [8 9 5 1 1]\n",
      "  [1 9 3 2 6]\n",
      "  [4 3 6 1 3]\n",
      "  [5 3 8 5 4]]\n",
      "\n",
      " [[7 5 8 5 8]\n",
      "  [9 6 9 7 4]\n",
      "  [0 3 6 7 2]\n",
      "  [6 9 0 0 2]\n",
      "  [6 2 9 9 4]]\n",
      "\n",
      " [[9 5 1 7 6]\n",
      "  [7 9 0 9 0]\n",
      "  [6 6 8 5 3]\n",
      "  [7 3 3 0 0]\n",
      "  [6 5 5 5 3]]\n",
      "\n",
      " [[6 1 5 1 0]\n",
      "  [1 4 1 1 6]\n",
      "  [0 9 3 6 3]\n",
      "  [5 4 2 6 2]\n",
      "  [4 0 5 0 7]]\n",
      "\n",
      " [[2 8 4 7 6]\n",
      "  [7 3 0 9 5]\n",
      "  [4 5 8 9 3]\n",
      "  [1 8 5 6 2]\n",
      "  [0 9 8 8 4]]]\n"
     ]
    }
   ],
   "source": [
    "#Adding two randomley generated 3D matrices \n",
    "D1=np.random.randint(0,10,(5,5,5))\n",
    "D2=np.random.randint(0,10,(5,5,5))\n",
    "print(\"D1 :\",D1)\n",
    "print(\"D2 :\",D2)\n",
    "\n",
    "\n"
   ]
  },
  {
   "cell_type": "code",
   "execution_count": 9,
   "metadata": {},
   "outputs": [
    {
     "name": "stdout",
     "output_type": "stream",
     "text": [
      "3\n",
      "3\n",
      "Shape of D1 : (5, 5, 5)\n",
      "Size of D1 : 125\n",
      "Shape of D2 : (5, 5, 5)\n",
      "Shape of D1 : 125\n"
     ]
    }
   ],
   "source": [
    "print(D1.ndim)\n",
    "print(D2.ndim)\n",
    "print(\"Shape of D1 :\",D1.shape)\n",
    "print(\"Size of D1 :\",D1.size)\n",
    "print(\"Shape of D2 :\",D2.shape)\n",
    "print( \"Shape of D1 :\",D2.size)"
   ]
  },
  {
   "cell_type": "code",
   "execution_count": 10,
   "metadata": {},
   "outputs": [
    {
     "name": "stdout",
     "output_type": "stream",
     "text": [
      "5\n",
      "[[[11  2 14  8 11]\n",
      "  [12 11 11  7  3]\n",
      "  [ 5 14  4  7  9]\n",
      "  [ 4  9  7  6  9]\n",
      "  [ 5  9 13  6  6]]\n",
      "\n",
      " [[16  8 17  6 13]\n",
      "  [16 10 15 15  8]\n",
      "  [ 8 12 14 13 11]\n",
      "  [ 9 12  2  6  8]\n",
      "  [ 7 11 18 12  4]]\n",
      "\n",
      " [[11 14  7 13 11]\n",
      "  [16 10  9 16  0]\n",
      "  [14 12 10  9 10]\n",
      "  [ 7  5 11  9  0]\n",
      "  [10 12  8 10  4]]\n",
      "\n",
      " [[ 9  7  7  2  7]\n",
      "  [ 9  4  8  1  6]\n",
      "  [ 4 12  6  7 11]\n",
      "  [ 7 11  4  9 11]\n",
      "  [ 6  4 14  6  8]]\n",
      "\n",
      " [[ 4 10  7 12 13]\n",
      "  [13  5  1 14  9]\n",
      "  [ 9 11 14 15  8]\n",
      "  [10  8 10 12  3]\n",
      "  [ 8 15 11 14  7]]]\n",
      "Sum may be correct\n"
     ]
    }
   ],
   "source": [
    "(r,c,d)=D1.shape\n",
    "print(r)\n",
    "s=np.zeros((5,5,5),int)\n",
    "for i in range(r):\n",
    "    for j in range(c):\n",
    "        for k in range(d):\n",
    "            s[i,j,k]=D1[i,j,k]+D2[i,j,k]\n",
    "print(s)\n",
    "s2=D1+D2\n",
    "if(s[3,2,4]==s2[3,2,4]):\n",
    "    print(\"Sum may be correct\")\n",
    "\n",
    "            "
   ]
  },
  {
   "cell_type": "markdown",
   "metadata": {},
   "source": [
    "# Problem2 :\n",
    "### --Find if a Given 2D point is inside or outside of a circle \n"
   ]
  },
  {
   "cell_type": "code",
   "execution_count": 18,
   "metadata": {},
   "outputs": [
    {
     "name": "stdout",
     "output_type": "stream",
     "text": [
      "Enter the Centre and radious of a circcle0 0 25\n",
      "x1:  0  y1:  0  Radius:  25\n",
      "Enter the points 1 2\n",
      "x2:  1  y2:  2\n",
      "point is inside the circle\n"
     ]
    }
   ],
   "source": [
    "#print(\"Enter the Centre and radious of a circcle\")\n",
    "x1,y1,r=input(\"Enter the Centre and radious of a circcle\").split()\n",
    "print(\"x1: \",x1, \" y1: \",y1 ,\" Radius: \",r)\n",
    "x2,y2=input(\"Enter the points \").split()\n",
    "print(\"x2: \",x2, \" y2: \",y2)\n",
    "distance=((int(x1)-int(x1))**2+(int(y1)-int(y2))**2)**0.5\n",
    "if(distance<int(r)):\n",
    "    print(\"point is inside the circle\")\n",
    "elif(distance==int(r)):\n",
    "    print(\"point is on the circle\")\n",
    "else:\n",
    "    print(\"point is outside the circle\")\n"
   ]
  },
  {
   "cell_type": "code",
   "execution_count": 24,
   "metadata": {},
   "outputs": [
    {
     "name": "stdout",
     "output_type": "stream",
     "text": [
      "Enter the Centre and radious of a circcle0 0 25\n",
      "Data type of x1:  <class 'int'>  Data type of y1:  <class 'int'>  Data type of Radius:  <class 'int'>\n"
     ]
    }
   ],
   "source": [
    "x1,y1,r=input(\"Enter the Centre and radious of a circcle\").split()\n",
    "x1=int(x1)\n",
    "y1=int(y1)\n",
    "r=int(r)\n",
    "print(\"Data type of x1: \",type(x1), \" Data type of y1: \",type(y1) ,\" Data type of Radius: \",type(r))"
   ]
  },
  {
   "cell_type": "code",
   "execution_count": 25,
   "metadata": {},
   "outputs": [
    {
     "name": "stdout",
     "output_type": "stream",
     "text": [
      "[[1 1 6 2 5]\n",
      " [2 6 9 8 9]\n",
      " [4 4 1 9 9]\n",
      " [2 9 1 8 1]\n",
      " [8 8 5 7 6]]\n"
     ]
    }
   ],
   "source": [
    "print(A)"
   ]
  },
  {
   "cell_type": "code",
   "execution_count": 36,
   "metadata": {},
   "outputs": [
    {
     "name": "stdout",
     "output_type": "stream",
     "text": [
      "[1 1 6 2 5 2 6 9 8 9 4 4 1 9 9 2 9 1 8 1 8 8 5 7 6]\n",
      "[[1 1 6 2 5]\n",
      " [2 6 9 8 9]\n",
      " [4 4 1 9 9]\n",
      " [2 9 1 8 1]\n",
      " [8 8 5 7 6]]\n"
     ]
    }
   ],
   "source": [
    "print(np.reshape(A,25,'C'))\n",
    "print(np.reshape(A,(5,-1),'C'))\n",
    "#print(np.reshape(A,(-1,1),'C'))"
   ]
  },
  {
   "cell_type": "markdown",
   "metadata": {},
   "source": [
    "# Exercise: take a tensor of size 4X5X6 and convert it into a tensor of vector  and matrix (10X12)."
   ]
  },
  {
   "cell_type": "code",
   "execution_count": 43,
   "metadata": {},
   "outputs": [
    {
     "name": "stdout",
     "output_type": "stream",
     "text": [
      "[[[9 8 5 8 7 8]\n",
      "  [2 8 7 3 4 2]\n",
      "  [6 1 7 6 2 6]\n",
      "  [7 7 6 1 7 6]\n",
      "  [6 7 4 8 2 1]]\n",
      "\n",
      " [[5 5 6 4 9 8]\n",
      "  [5 6 6 4 8 7]\n",
      "  [6 6 4 9 3 3]\n",
      "  [7 5 3 4 3 4]\n",
      "  [4 5 4 3 7 5]]\n",
      "\n",
      " [[1 8 2 7 8 9]\n",
      "  [9 5 4 2 2 5]\n",
      "  [7 6 3 6 9 1]\n",
      "  [8 3 7 5 4 4]\n",
      "  [3 5 8 5 4 1]]\n",
      "\n",
      " [[6 9 8 3 3 7]\n",
      "  [3 5 8 4 4 2]\n",
      "  [6 8 3 8 4 9]\n",
      "  [9 5 7 9 5 7]\n",
      "  [8 9 4 8 8 6]]]\n",
      "[9 8 5 8 7 8 2 8 7 3 4 2 6 1 7 6 2 6 7 7 6 1 7 6 6 7 4 8 2 1 5 5 6 4 9 8 5\n",
      " 6 6 4 8 7 6 6 4 9 3 3 7 5 3 4 3 4 4 5 4 3 7 5 1 8 2 7 8 9 9 5 4 2 2 5 7 6\n",
      " 3 6 9 1 8 3 7 5 4 4 3 5 8 5 4 1 6 9 8 3 3 7 3 5 8 4 4 2 6 8 3 8 4 9 9 5 7\n",
      " 9 5 7 8 9 4 8 8 6]\n",
      "120\n",
      "[[9 8 5 8 7 8 2 8 7 3 4 2]\n",
      " [6 1 7 6 2 6 7 7 6 1 7 6]\n",
      " [6 7 4 8 2 1 5 5 6 4 9 8]\n",
      " [5 6 6 4 8 7 6 6 4 9 3 3]\n",
      " [7 5 3 4 3 4 4 5 4 3 7 5]\n",
      " [1 8 2 7 8 9 9 5 4 2 2 5]\n",
      " [7 6 3 6 9 1 8 3 7 5 4 4]\n",
      " [3 5 8 5 4 1 6 9 8 3 3 7]\n",
      " [3 5 8 4 4 2 6 8 3 8 4 9]\n",
      " [9 5 7 9 5 7 8 9 4 8 8 6]]\n",
      "(10, 12)\n"
     ]
    }
   ],
   "source": [
    "T=np.random.randint(1,10,(4,5,6))\n",
    "print(T)\n",
    "reshape_T=np.reshape(T,120)\n",
    "print(reshape_T)\n",
    "print(reshape_T.size)\n",
    "mat_T=np.reshape(T,(10,12))\n",
    "print(mat_T)\n",
    "print(mat_T.shape)\n"
   ]
  },
  {
   "cell_type": "code",
   "execution_count": 45,
   "metadata": {},
   "outputs": [
    {
     "name": "stdout",
     "output_type": "stream",
     "text": [
      "A: [[1 1 6 2 5]\n",
      " [2 6 9 8 9]\n",
      " [4 4 1 9 9]\n",
      " [2 9 1 8 1]\n",
      " [8 8 5 7 6]]\n",
      "B: [[5 9 0 7 6]\n",
      " [3 2 9 4 8]\n",
      " [5 0 1 7 2]\n",
      " [5 3 3 9 2]\n",
      " [5 4 4 7 7]]\n"
     ]
    }
   ],
   "source": [
    "print(\"A:\",A)\n",
    "print(\"B:\",B)"
   ]
  },
  {
   "cell_type": "code",
   "execution_count": 46,
   "metadata": {},
   "outputs": [
    {
     "name": "stdout",
     "output_type": "stream",
     "text": [
      "(5, 5)\n",
      "(5, 5)\n"
     ]
    }
   ],
   "source": [
    "print(A.shape)\n",
    "print(B.shape)"
   ]
  },
  {
   "cell_type": "code",
   "execution_count": 49,
   "metadata": {},
   "outputs": [
    {
     "name": "stdout",
     "output_type": "stream",
     "text": [
      "[[1 1 6 2 5 5 9 0 7 6]\n",
      " [2 6 9 8 9 3 2 9 4 8]\n",
      " [4 4 1 9 9 5 0 1 7 2]\n",
      " [2 9 1 8 1 5 3 3 9 2]\n",
      " [8 8 5 7 6 5 4 4 7 7]]\n",
      "(5, 10)\n"
     ]
    }
   ],
   "source": [
    "hstacked_arr=np.hstack((A,B))\n",
    "print(hstacked_arr)\n",
    "print(hstacked_arr.shape)\n"
   ]
  },
  {
   "cell_type": "code",
   "execution_count": 51,
   "metadata": {},
   "outputs": [
    {
     "name": "stdout",
     "output_type": "stream",
     "text": [
      "[[1 1 6 2 5]\n",
      " [2 6 9 8 9]\n",
      " [4 4 1 9 9]\n",
      " [2 9 1 8 1]\n",
      " [8 8 5 7 6]\n",
      " [5 9 0 7 6]\n",
      " [3 2 9 4 8]\n",
      " [5 0 1 7 2]\n",
      " [5 3 3 9 2]\n",
      " [5 4 4 7 7]]\n",
      "(10, 5)\n"
     ]
    }
   ],
   "source": [
    "vstacked_arr=np.vstack((A,B))\n",
    "print(vstacked_arr)\n",
    "print(vstacked_arr.shape)"
   ]
  },
  {
   "cell_type": "code",
   "execution_count": 53,
   "metadata": {},
   "outputs": [
    {
     "name": "stdout",
     "output_type": "stream",
     "text": [
      "(5, 5, 5)\n",
      "(5, 5, 5)\n"
     ]
    }
   ],
   "source": [
    "print(D1.shape)\n",
    "print(D2.shape)"
   ]
  },
  {
   "cell_type": "code",
   "execution_count": 59,
   "metadata": {},
   "outputs": [
    {
     "name": "stdout",
     "output_type": "stream",
     "text": [
      "(5, 10, 5)\n"
     ]
    }
   ],
   "source": [
    "hstacked_arr=np.hstack((D1,D2))\n",
    "#print(dstacked_arr)\n",
    "print(hstacked_arr.shape)"
   ]
  },
  {
   "cell_type": "code",
   "execution_count": 60,
   "metadata": {},
   "outputs": [
    {
     "name": "stdout",
     "output_type": "stream",
     "text": [
      "(10, 5, 5)\n"
     ]
    }
   ],
   "source": [
    "vstacked_arr=np.vstack((D1,D2))\n",
    "#print(dstacked_arr)\n",
    "print(vstacked_arr.shape)"
   ]
  },
  {
   "cell_type": "code",
   "execution_count": 61,
   "metadata": {},
   "outputs": [
    {
     "name": "stdout",
     "output_type": "stream",
     "text": [
      "(5, 5, 10)\n"
     ]
    }
   ],
   "source": [
    "dstacked_arr=np.dstack((D1,D2))\n",
    "#print(dstacked_arr)\n",
    "print(dstacked_arr.shape)"
   ]
  },
  {
   "cell_type": "markdown",
   "metadata": {},
   "source": [
    "# Exercise: Achieve the above tranaomfrs using numpy.concatenate"
   ]
  },
  {
   "cell_type": "code",
   "execution_count": 63,
   "metadata": {},
   "outputs": [
    {
     "name": "stdout",
     "output_type": "stream",
     "text": [
      "(5, 5)\n",
      "(5, 5)\n"
     ]
    }
   ],
   "source": [
    "print(A.shape)\n",
    "print(B.shape)"
   ]
  },
  {
   "cell_type": "code",
   "execution_count": 74,
   "metadata": {},
   "outputs": [
    {
     "name": "stdout",
     "output_type": "stream",
     "text": [
      "(250,)\n",
      "<class 'numpy.ndarray'>\n"
     ]
    }
   ],
   "source": [
    "conc_arr=np.concatenate((D1,D2),axis=None)\n",
    "print(conc_arr.shape)\n",
    "print(type(conc_arr))"
   ]
  },
  {
   "cell_type": "code",
   "execution_count": 77,
   "metadata": {},
   "outputs": [
    {
     "name": "stdout",
     "output_type": "stream",
     "text": [
      "Hell\n"
     ]
    }
   ],
   "source": [
    "print(\"Hell\")"
   ]
  },
  {
   "cell_type": "markdown",
   "metadata": {},
   "source": [
    "# Problem-4: Find peaks/max in an list"
   ]
  },
  {
   "cell_type": "code",
   "execution_count": 78,
   "metadata": {},
   "outputs": [
    {
     "name": "stdout",
     "output_type": "stream",
     "text": [
      "[1, 3, 4, 5, 7, 6, 4, 5, 10, 1]\n"
     ]
    }
   ],
   "source": [
    "A = [1,3,4,5,7,6,4,5,10,1]\n",
    "print(A)"
   ]
  },
  {
   "cell_type": "code",
   "execution_count": null,
   "metadata": {},
   "outputs": [],
   "source": []
  },
  {
   "cell_type": "code",
   "execution_count": 80,
   "metadata": {},
   "outputs": [
    {
     "name": "stdout",
     "output_type": "stream",
     "text": [
      "7\n",
      "10\n"
     ]
    }
   ],
   "source": [
    "#finding the max or peak in a list\n",
    "for i in range (1,len(A)-1):\n",
    "    if(A[i-1]<A[i]>A[i+1]):\n",
    "        print(A[i])\n",
    "if(A[0]>A[1] ):\n",
    "    print(A[0])\n",
    "elif( A[-1]>A[-2]):\n",
    "    print(A[-1])"
   ]
  },
  {
   "cell_type": "code",
   "execution_count": 82,
   "metadata": {},
   "outputs": [
    {
     "name": "stdout",
     "output_type": "stream",
     "text": [
      "[11, 3, 4, 5, 7, 6, 4, 5, 10, 15]\n",
      "7\n",
      "11\n",
      "15\n"
     ]
    }
   ],
   "source": [
    "A=[11,3,4,5,7,6,4,5,10,15]\n",
    "print(A)\n",
    "#finding the max or peak in a list\n",
    "for i in range (1,len(A)-1):\n",
    "    if(A[i-1]<A[i]>A[i+1]):\n",
    "        print(A[i])\n",
    "if(A[0]>A[1] ):\n",
    "    print(A[0])\n",
    "if( A[-1]>A[-2]):\n",
    "    print(A[-1])"
   ]
  },
  {
   "cell_type": "code",
   "execution_count": null,
   "metadata": {},
   "outputs": [],
   "source": []
  }
 ],
 "metadata": {
  "kernelspec": {
   "display_name": "Python 3",
   "language": "python",
   "name": "python3"
  },
  "language_info": {
   "codemirror_mode": {
    "name": "ipython",
    "version": 3
   },
   "file_extension": ".py",
   "mimetype": "text/x-python",
   "name": "python",
   "nbconvert_exporter": "python",
   "pygments_lexer": "ipython3",
   "version": "3.7.6"
  }
 },
 "nbformat": 4,
 "nbformat_minor": 4
}
