{
 "cells": [
  {
   "cell_type": "code",
   "execution_count": 4,
   "metadata": {},
   "outputs": [
    {
     "name": "stdout",
     "output_type": "stream",
     "text": [
      "Hello\n"
     ]
    }
   ],
   "source": [
    "print(\"Hello\")"
   ]
  },
  {
   "cell_type": "markdown",
   "metadata": {},
   "source": [
    "### HI\n",
    "--hbciac\n",
    "--bvjacbj\n",
    "\n"
   ]
  },
  {
   "cell_type": "code",
   "execution_count": 18,
   "metadata": {},
   "outputs": [
    {
     "name": "stdout",
     "output_type": "stream",
     "text": [
      "[[7 0 4 2 3]\n",
      " [1 7 7 8 1]\n",
      " [2 9 5 4 6]\n",
      " [2 5 3 1 6]\n",
      " [8 7 9 5 5]]\n"
     ]
    }
   ],
   "source": [
    "import numpy as np\n",
    "A=np.random.randint(10,size=(5,5))\n",
    "print(A)"
   ]
  },
  {
   "cell_type": "code",
   "execution_count": 26,
   "metadata": {},
   "outputs": [
    {
     "name": "stdout",
     "output_type": "stream",
     "text": [
      "[[9 7 2 9 2]\n",
      " [5 9 9 7 1]\n",
      " [5 2 9 2 7]\n",
      " [5 4 9 7 6]\n",
      " [8 0 1 6 6]]\n",
      "9\n"
     ]
    }
   ],
   "source": [
    "import numpy as np\n",
    "B=np.random.randint(10,size=(5,5))\n",
    "print(B)\n",
    "print(B[2,2])\n",
    "#print(A)"
   ]
  },
  {
   "cell_type": "code",
   "execution_count": 32,
   "metadata": {},
   "outputs": [
    {
     "name": "stdout",
     "output_type": "stream",
     "text": [
      "[[0 0 0 0 0]\n",
      " [0 0 0 0 0]\n",
      " [0 0 0 0 0]\n",
      " [0 0 0 0 0]\n",
      " [0 0 0 0 0]]\n"
     ]
    }
   ],
   "source": [
    "c=np.zeros((5,5),int)\n",
    "print(c)"
   ]
  },
  {
   "cell_type": "code",
   "execution_count": 33,
   "metadata": {},
   "outputs": [
    {
     "name": "stdout",
     "output_type": "stream",
     "text": [
      "[[16  7  6 11  5]\n",
      " [ 6 16 16 15  2]\n",
      " [ 7 11 14  6 13]\n",
      " [ 7  9 12  8 12]\n",
      " [16  7 10 11 11]]\n",
      "[[16  7  6 11  5]\n",
      " [ 6 16 16 15  2]\n",
      " [ 7 11 14  6 13]\n",
      " [ 7  9 12  8 12]\n",
      " [16  7 10 11 11]]\n"
     ]
    }
   ],
   "source": [
    "for i in range(5):\n",
    "    for j in range(5):\n",
    "        c[i,j]=A[i,j]+B[i,j]\n",
    "print(c)\n",
    "print(A+B)\n",
    "D=A+B\n"
   ]
  },
  {
   "cell_type": "code",
   "execution_count": 39,
   "metadata": {},
   "outputs": [
    {
     "name": "stdout",
     "output_type": "stream",
     "text": [
      "<class 'numpy.ndarray'>\n",
      "(5, 5)\n"
     ]
    }
   ],
   "source": [
    "print(type(c))\n",
    "print(c.shape)"
   ]
  },
  {
   "cell_type": "code",
   "execution_count": null,
   "metadata": {},
   "outputs": [],
   "source": []
  }
 ],
 "metadata": {
  "kernelspec": {
   "display_name": "Python 3",
   "language": "python",
   "name": "python3"
  },
  "language_info": {
   "codemirror_mode": {
    "name": "ipython",
    "version": 3
   },
   "file_extension": ".py",
   "mimetype": "text/x-python",
   "name": "python",
   "nbconvert_exporter": "python",
   "pygments_lexer": "ipython3",
   "version": "3.7.6"
  }
 },
 "nbformat": 4,
 "nbformat_minor": 4
}
